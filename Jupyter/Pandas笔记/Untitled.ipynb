{
 "cells": [
  {
   "cell_type": "markdown",
   "metadata": {},
   "source": [
    "# 猫眼电影top100分析"
   ]
  },
  {
   "cell_type": "code",
   "execution_count": 1,
   "metadata": {},
   "outputs": [],
   "source": [
    "import pandas as pd\n",
    "import numpy as np"
   ]
  },
  {
   "cell_type": "code",
   "execution_count": 8,
   "metadata": {},
   "outputs": [
    {
     "data": {
      "text/plain": [
       "0     9.6\n",
       "1     9.5\n",
       "2     9.1\n",
       "3     9.5\n",
       "4     9.3\n",
       "5     9.5\n",
       "6     9.2\n",
       "7     9.3\n",
       "8     9.2\n",
       "9     9.1\n",
       "10    9.1\n",
       "11    9.2\n",
       "12    9.2\n",
       "13    9.0\n",
       "14    9.0\n",
       "15    8.8\n",
       "16    9.2\n",
       "17    9.3\n",
       "18    9.2\n",
       "19    9.0\n",
       "20    8.9\n",
       "21    9.2\n",
       "22    9.1\n",
       "23    9.1\n",
       "24    8.9\n",
       "25    9.3\n",
       "26    8.9\n",
       "27    9.0\n",
       "28    9.1\n",
       "29    9.3\n",
       "     ... \n",
       "70    9.1\n",
       "71    8.8\n",
       "72    8.8\n",
       "73    8.8\n",
       "74    8.8\n",
       "75    9.2\n",
       "76    9.1\n",
       "77    9.1\n",
       "78    9.0\n",
       "79    8.9\n",
       "80    9.0\n",
       "81    9.0\n",
       "82    8.8\n",
       "83    8.8\n",
       "84    8.9\n",
       "85    8.9\n",
       "86    9.0\n",
       "87    8.9\n",
       "88    8.8\n",
       "89    9.1\n",
       "90    9.2\n",
       "91    8.9\n",
       "92    8.9\n",
       "93    9.0\n",
       "94    9.0\n",
       "95    8.9\n",
       "96    9.0\n",
       "97    9.1\n",
       "98    8.8\n",
       "99    9.2\n",
       "Name: score, Length: 100, dtype: float64"
      ]
     },
     "execution_count": 8,
     "metadata": {},
     "output_type": "execute_result"
    }
   ],
   "source": [
    "data = pd.read_json('../pydata/result.json',lines=True)\n",
    "data.score"
   ]
  },
  {
   "cell_type": "code",
   "execution_count": null,
   "metadata": {},
   "outputs": [],
   "source": []
  },
  {
   "cell_type": "code",
   "execution_count": null,
   "metadata": {},
   "outputs": [],
   "source": []
  },
  {
   "cell_type": "code",
   "execution_count": null,
   "metadata": {},
   "outputs": [],
   "source": []
  }
 ],
 "metadata": {
  "kernelspec": {
   "display_name": "Python 3",
   "language": "python",
   "name": "python3"
  },
  "language_info": {
   "codemirror_mode": {
    "name": "ipython",
    "version": 3
   },
   "file_extension": ".py",
   "mimetype": "text/x-python",
   "name": "python",
   "nbconvert_exporter": "python",
   "pygments_lexer": "ipython3",
   "version": "3.6.5"
  }
 },
 "nbformat": 4,
 "nbformat_minor": 2
}
