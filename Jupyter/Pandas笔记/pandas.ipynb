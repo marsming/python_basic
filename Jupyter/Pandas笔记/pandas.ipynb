{
 "cells": [
  {
   "cell_type": "markdown",
   "metadata": {},
   "source": [
    "# 一、Pandas的数据结构"
   ]
  },
  {
   "cell_type": "code",
   "execution_count": 13,
   "metadata": {},
   "outputs": [],
   "source": [
    "# 导入数据分析三剑客\n",
    "import pandas as pd\n",
    "import numpy as np\n",
    "import matplotlib.pyplot as plt"
   ]
  },
  {
   "cell_type": "markdown",
   "metadata": {},
   "source": [
    "## 1.Series\n",
    "- Series是一种类似与一维数组的对象，由下面两部分组成：\n",
    "    - values:一组数组（ndarray类型）\n",
    "    - index:相关的数据索引标签\n",
    "    \n",
    "### 1.1Series的创建\n",
    "- 两种创建方式：\n",
    "- （1）由列表或numpy数组创建\n",
    "    - 默认索引为0到N-1的整数类型索引"
   ]
  },
  {
   "cell_type": "code",
   "execution_count": 15,
   "metadata": {
    "scrolled": true
   },
   "outputs": [
    {
     "data": {
      "text/plain": [
       "0    1\n",
       "1    2\n",
       "2    3\n",
       "3    4\n",
       "dtype: int64"
      ]
     },
     "execution_count": 15,
     "metadata": {},
     "output_type": "execute_result"
    }
   ],
   "source": [
    "s = pd.Series([x for x in range(1,5)])\n",
    "s"
   ]
  },
  {
   "cell_type": "code",
   "execution_count": 17,
   "metadata": {},
   "outputs": [
    {
     "data": {
      "text/plain": [
       "a    1\n",
       "b    2\n",
       "c    3\n",
       "d    4\n",
       "dtype: int64"
      ]
     },
     "execution_count": 17,
     "metadata": {},
     "output_type": "execute_result"
    }
   ],
   "source": [
    "# 通过index指定索引\n",
    "s.index = list('abcd')\n",
    "s"
   ]
  },
  {
   "cell_type": "code",
   "execution_count": 23,
   "metadata": {},
   "outputs": [
    {
     "data": {
      "text/plain": [
       "a    zhangsan\n",
       "b        lisi\n",
       "c      wangwu\n",
       "d     zhaoliu\n",
       "dtype: object"
      ]
     },
     "execution_count": 23,
     "metadata": {},
     "output_type": "execute_result"
    }
   ],
   "source": [
    "s1 = pd.Series(['zhangsan','lisi','wangwu','zhaoliu'],index=list('abcd'))\n",
    "s1"
   ]
  },
  {
   "cell_type": "code",
   "execution_count": 24,
   "metadata": {},
   "outputs": [
    {
     "data": {
      "text/plain": [
       "a    5\n",
       "b    2\n",
       "c    0\n",
       "d    3\n",
       "e    5\n",
       "dtype: int32"
      ]
     },
     "execution_count": 24,
     "metadata": {},
     "output_type": "execute_result"
    }
   ],
   "source": [
    "#Series只能存放一维数据\n",
    "s2 = pd.Series(np.random.randint(0,10,size=5),index=list('abcde'))\n",
    "s2"
   ]
  },
  {
   "cell_type": "markdown",
   "metadata": {},
   "source": [
    "- （2）由字典创建"
   ]
  },
  {
   "cell_type": "code",
   "execution_count": 26,
   "metadata": {},
   "outputs": [
    {
     "data": {
      "text/plain": [
       "zhangsan    23\n",
       "lisi        22\n",
       "wangwu      24\n",
       "zhaoliu     21\n",
       "dtype: int64"
      ]
     },
     "execution_count": 26,
     "metadata": {},
     "output_type": "execute_result"
    }
   ],
   "source": [
    "s3 = pd.Series({'zhangsan':23,'lisi':22,'wangwu':24,'zhaoliu':21})\n",
    "s3"
   ]
  },
  {
   "cell_type": "markdown",
   "metadata": {},
   "source": [
    "### 1.2Series的索引和切片\n",
    "- 可以使用中括号取单个索引（此时返回的是元素类型），或者中括号里面一个列表取多个索引（此时返回的仍然是一个Series类型）。\n",
    "- 显示索引：\n",
    "    - 使用index中的元素作为索引值\n",
    "    - 使用`.loc[]` 推荐\n",
    "- 注意，此时是闭区间"
   ]
  },
  {
   "cell_type": "code",
   "execution_count": 27,
   "metadata": {},
   "outputs": [
    {
     "data": {
      "text/plain": [
       "a    0.277840\n",
       "b    0.444141\n",
       "c    0.968598\n",
       "d    0.126967\n",
       "e    0.949309\n",
       "f    0.869168\n",
       "g    0.371931\n",
       "h    0.483768\n",
       "i    0.408742\n",
       "j    0.584720\n",
       "dtype: float64"
      ]
     },
     "execution_count": 27,
     "metadata": {},
     "output_type": "execute_result"
    }
   ],
   "source": [
    "s4 = pd.Series(np.random.random(10),index=list('abcdefghij'))\n",
    "s4"
   ]
  },
  {
   "cell_type": "code",
   "execution_count": 30,
   "metadata": {},
   "outputs": [
    {
     "data": {
      "text/plain": [
       "0.2778400875990814"
      ]
     },
     "execution_count": 30,
     "metadata": {},
     "output_type": "execute_result"
    }
   ],
   "source": [
    "s4['a']"
   ]
  },
  {
   "cell_type": "code",
   "execution_count": 41,
   "metadata": {},
   "outputs": [
    {
     "data": {
      "text/plain": [
       "a    0.277840\n",
       "b    0.444141\n",
       "c    0.968598\n",
       "d    0.126967\n",
       "dtype: float64"
      ]
     },
     "execution_count": 41,
     "metadata": {},
     "output_type": "execute_result"
    }
   ],
   "source": [
    "#显示索引\n",
    "s4.loc['a':'d']"
   ]
  },
  {
   "cell_type": "code",
   "execution_count": 33,
   "metadata": {},
   "outputs": [
    {
     "data": {
      "text/plain": [
       "0.4441408006407136"
      ]
     },
     "execution_count": 33,
     "metadata": {},
     "output_type": "execute_result"
    }
   ],
   "source": [
    "s4[1]"
   ]
  },
  {
   "cell_type": "markdown",
   "metadata": {},
   "source": [
    "- 隐式索引：\n",
    "    - 使用整数作为索引值\n",
    "    - 使用`.ilco[]`推荐\n",
    "- 注意：此时是半开区间"
   ]
  },
  {
   "cell_type": "code",
   "execution_count": 40,
   "metadata": {},
   "outputs": [
    {
     "data": {
      "text/plain": [
       "a    0.277840\n",
       "b    0.444141\n",
       "c    0.968598\n",
       "d    0.126967\n",
       "dtype: float64"
      ]
     },
     "execution_count": 40,
     "metadata": {},
     "output_type": "execute_result"
    }
   ],
   "source": [
    "s4.iloc[0:4]"
   ]
  },
  {
   "cell_type": "markdown",
   "metadata": {},
   "source": [
    "### 1.3Series的基本概念\n",
    "- 可以把Series看成一个定长的有序字典\n",
    "- 可以通过shape，size，index，values等得到series的属性"
   ]
  },
  {
   "cell_type": "code",
   "execution_count": 43,
   "metadata": {},
   "outputs": [
    {
     "data": {
      "text/plain": [
       "(10,)"
      ]
     },
     "metadata": {},
     "output_type": "display_data"
    },
    {
     "data": {
      "text/plain": [
       "10"
      ]
     },
     "metadata": {},
     "output_type": "display_data"
    },
    {
     "data": {
      "text/plain": [
       "Index(['a', 'b', 'c', 'd', 'e', 'f', 'g', 'h', 'i', 'j'], dtype='object')"
      ]
     },
     "metadata": {},
     "output_type": "display_data"
    },
    {
     "data": {
      "text/plain": [
       "array([0.27784009, 0.4441408 , 0.96859772, 0.12696677, 0.94930858,\n",
       "       0.86916825, 0.37193067, 0.48376761, 0.40874214, 0.58472009])"
      ]
     },
     "metadata": {},
     "output_type": "display_data"
    }
   ],
   "source": [
    "#Series.values就是一个ndarray\n",
    "display(s4.shape,s4.size,s4.index,s4.values)"
   ]
  },
  {
   "cell_type": "markdown",
   "metadata": {},
   "source": [
    "- 可以通过head(),tail()快速查看Series对象的样式"
   ]
  },
  {
   "cell_type": "code",
   "execution_count": 1,
   "metadata": {},
   "outputs": [
    {
     "data": {
      "text/plain": [
       "pandas.core.frame.DataFrame"
      ]
     },
     "execution_count": 1,
     "metadata": {},
     "output_type": "execute_result"
    }
   ],
   "source": [
    "#查看Series前几行\n",
    "import numpy as np\n",
    "import pandas as pd\n",
    "df = pd.read_excel('./pydata/people.xlsx')\n",
    "type(df)"
   ]
  },
  {
   "cell_type": "code",
   "execution_count": 2,
   "metadata": {},
   "outputs": [
    {
     "data": {
      "text/plain": [
       "pandas.core.series.Series"
      ]
     },
     "execution_count": 2,
     "metadata": {},
     "output_type": "execute_result"
    }
   ],
   "source": [
    "age = df['age']\n",
    "type(age)"
   ]
  },
  {
   "cell_type": "code",
   "execution_count": 3,
   "metadata": {},
   "outputs": [
    {
     "data": {
      "text/plain": [
       "0    43\n",
       "1    29\n",
       "2    25\n",
       "3    50\n",
       "4    48\n",
       "Name: age, dtype: int64"
      ]
     },
     "execution_count": 3,
     "metadata": {},
     "output_type": "execute_result"
    }
   ],
   "source": [
    "age.head(5)"
   ]
  },
  {
   "cell_type": "code",
   "execution_count": 4,
   "metadata": {},
   "outputs": [
    {
     "data": {
      "text/plain": [
       "495    24\n",
       "496    30\n",
       "497    57\n",
       "498    39\n",
       "499    42\n",
       "Name: age, dtype: int64"
      ]
     },
     "execution_count": 4,
     "metadata": {},
     "output_type": "execute_result"
    }
   ],
   "source": [
    "age.tail(5)"
   ]
  },
  {
   "cell_type": "markdown",
   "metadata": {},
   "source": [
    "- 可以使用pd.isnull(),pd.notnull()，或自带isnull()，notnull()函数检测缺失数据"
   ]
  },
  {
   "cell_type": "code",
   "execution_count": 9,
   "metadata": {},
   "outputs": [
    {
     "data": {
      "text/plain": [
       "0    1.0\n",
       "1    2.0\n",
       "2    NaN\n",
       "3    NaN\n",
       "dtype: float64"
      ]
     },
     "execution_count": 9,
     "metadata": {},
     "output_type": "execute_result"
    }
   ],
   "source": [
    "s5 = pd.Series([1,2,None,np.nan])\n",
    "s5"
   ]
  },
  {
   "cell_type": "code",
   "execution_count": 10,
   "metadata": {},
   "outputs": [
    {
     "data": {
      "text/plain": [
       "0    False\n",
       "1    False\n",
       "2     True\n",
       "3     True\n",
       "dtype: bool"
      ]
     },
     "execution_count": 10,
     "metadata": {},
     "output_type": "execute_result"
    }
   ],
   "source": [
    "s5.isnull()"
   ]
  },
  {
   "cell_type": "code",
   "execution_count": 14,
   "metadata": {},
   "outputs": [
    {
     "data": {
      "text/plain": [
       "0     True\n",
       "1     True\n",
       "2    False\n",
       "3    False\n",
       "dtype: bool"
      ]
     },
     "execution_count": 14,
     "metadata": {},
     "output_type": "execute_result"
    }
   ],
   "source": [
    "s6 = s5.notnull()\n",
    "s6"
   ]
  },
  {
   "cell_type": "code",
   "execution_count": 15,
   "metadata": {},
   "outputs": [
    {
     "data": {
      "text/plain": [
       "0    1.0\n",
       "1    2.0\n",
       "dtype: float64"
      ]
     },
     "execution_count": 15,
     "metadata": {},
     "output_type": "execute_result"
    }
   ],
   "source": [
    "#notnull相当于过滤，将为false的过滤掉\n",
    "s5[s6]"
   ]
  },
  {
   "cell_type": "markdown",
   "metadata": {},
   "source": [
    "- Series对象本省及其实例都有一个name属性"
   ]
  },
  {
   "cell_type": "code",
   "execution_count": 17,
   "metadata": {},
   "outputs": [
    {
     "data": {
      "text/plain": [
       "0    1.0\n",
       "1    2.0\n",
       "2    NaN\n",
       "3    NaN\n",
       "Name: Test, dtype: float64"
      ]
     },
     "execution_count": 17,
     "metadata": {},
     "output_type": "execute_result"
    }
   ],
   "source": [
    "#name在DateFrame中用于区分,在DateFrame中是指其列名\n",
    "s5.name = 'Test'\n",
    "s5"
   ]
  },
  {
   "cell_type": "code",
   "execution_count": 18,
   "metadata": {
    "collapsed": true
   },
   "outputs": [
    {
     "data": {
      "text/html": [
       "<div>\n",
       "<style scoped>\n",
       "    .dataframe tbody tr th:only-of-type {\n",
       "        vertical-align: middle;\n",
       "    }\n",
       "\n",
       "    .dataframe tbody tr th {\n",
       "        vertical-align: top;\n",
       "    }\n",
       "\n",
       "    .dataframe thead th {\n",
       "        text-align: right;\n",
       "    }\n",
       "</style>\n",
       "<table border=\"1\" class=\"dataframe\">\n",
       "  <thead>\n",
       "    <tr style=\"text-align: right;\">\n",
       "      <th></th>\n",
       "      <th>name</th>\n",
       "      <th>city</th>\n",
       "      <th>age</th>\n",
       "      <th>height</th>\n",
       "      <th>weight</th>\n",
       "    </tr>\n",
       "  </thead>\n",
       "  <tbody>\n",
       "    <tr>\n",
       "      <th>0</th>\n",
       "      <td>危琳</td>\n",
       "      <td>兴城市</td>\n",
       "      <td>43</td>\n",
       "      <td>164</td>\n",
       "      <td>156</td>\n",
       "    </tr>\n",
       "    <tr>\n",
       "      <th>1</th>\n",
       "      <td>颛春梅</td>\n",
       "      <td>潜江县</td>\n",
       "      <td>29</td>\n",
       "      <td>181</td>\n",
       "      <td>114</td>\n",
       "    </tr>\n",
       "    <tr>\n",
       "      <th>2</th>\n",
       "      <td>韶璐</td>\n",
       "      <td>深圳县</td>\n",
       "      <td>25</td>\n",
       "      <td>170</td>\n",
       "      <td>149</td>\n",
       "    </tr>\n",
       "    <tr>\n",
       "      <th>3</th>\n",
       "      <td>父想</td>\n",
       "      <td>大冶县</td>\n",
       "      <td>50</td>\n",
       "      <td>172</td>\n",
       "      <td>138</td>\n",
       "    </tr>\n",
       "    <tr>\n",
       "      <th>4</th>\n",
       "      <td>逄建国</td>\n",
       "      <td>彬县</td>\n",
       "      <td>48</td>\n",
       "      <td>169</td>\n",
       "      <td>110</td>\n",
       "    </tr>\n",
       "    <tr>\n",
       "      <th>5</th>\n",
       "      <td>车静</td>\n",
       "      <td>宁德县</td>\n",
       "      <td>56</td>\n",
       "      <td>177</td>\n",
       "      <td>119</td>\n",
       "    </tr>\n",
       "    <tr>\n",
       "      <th>6</th>\n",
       "      <td>俟玉梅</td>\n",
       "      <td>莉县</td>\n",
       "      <td>47</td>\n",
       "      <td>176</td>\n",
       "      <td>125</td>\n",
       "    </tr>\n",
       "    <tr>\n",
       "      <th>7</th>\n",
       "      <td>岳博</td>\n",
       "      <td>通辽县</td>\n",
       "      <td>51</td>\n",
       "      <td>162</td>\n",
       "      <td>118</td>\n",
       "    </tr>\n",
       "    <tr>\n",
       "      <th>8</th>\n",
       "      <td>璩柳</td>\n",
       "      <td>建县</td>\n",
       "      <td>31</td>\n",
       "      <td>189</td>\n",
       "      <td>154</td>\n",
       "    </tr>\n",
       "    <tr>\n",
       "      <th>9</th>\n",
       "      <td>空龙</td>\n",
       "      <td>西宁县</td>\n",
       "      <td>23</td>\n",
       "      <td>179</td>\n",
       "      <td>150</td>\n",
       "    </tr>\n",
       "    <tr>\n",
       "      <th>10</th>\n",
       "      <td>濮婷</td>\n",
       "      <td>文县</td>\n",
       "      <td>50</td>\n",
       "      <td>172</td>\n",
       "      <td>121</td>\n",
       "    </tr>\n",
       "    <tr>\n",
       "      <th>11</th>\n",
       "      <td>勾婷</td>\n",
       "      <td>武汉县</td>\n",
       "      <td>50</td>\n",
       "      <td>184</td>\n",
       "      <td>141</td>\n",
       "    </tr>\n",
       "    <tr>\n",
       "      <th>12</th>\n",
       "      <td>苍萍</td>\n",
       "      <td>凯市</td>\n",
       "      <td>27</td>\n",
       "      <td>174</td>\n",
       "      <td>120</td>\n",
       "    </tr>\n",
       "    <tr>\n",
       "      <th>13</th>\n",
       "      <td>邰帆</td>\n",
       "      <td>上海县</td>\n",
       "      <td>45</td>\n",
       "      <td>174</td>\n",
       "      <td>151</td>\n",
       "    </tr>\n",
       "    <tr>\n",
       "      <th>14</th>\n",
       "      <td>东红</td>\n",
       "      <td>华县</td>\n",
       "      <td>30</td>\n",
       "      <td>166</td>\n",
       "      <td>123</td>\n",
       "    </tr>\n",
       "    <tr>\n",
       "      <th>15</th>\n",
       "      <td>孙文</td>\n",
       "      <td>华县</td>\n",
       "      <td>50</td>\n",
       "      <td>169</td>\n",
       "      <td>110</td>\n",
       "    </tr>\n",
       "    <tr>\n",
       "      <th>16</th>\n",
       "      <td>松飞</td>\n",
       "      <td>华县</td>\n",
       "      <td>57</td>\n",
       "      <td>174</td>\n",
       "      <td>116</td>\n",
       "    </tr>\n",
       "    <tr>\n",
       "      <th>17</th>\n",
       "      <td>水琳</td>\n",
       "      <td>阳县</td>\n",
       "      <td>36</td>\n",
       "      <td>163</td>\n",
       "      <td>142</td>\n",
       "    </tr>\n",
       "    <tr>\n",
       "      <th>18</th>\n",
       "      <td>简平</td>\n",
       "      <td>辽阳市</td>\n",
       "      <td>57</td>\n",
       "      <td>181</td>\n",
       "      <td>110</td>\n",
       "    </tr>\n",
       "    <tr>\n",
       "      <th>19</th>\n",
       "      <td>慕雪</td>\n",
       "      <td>海口市</td>\n",
       "      <td>22</td>\n",
       "      <td>177</td>\n",
       "      <td>150</td>\n",
       "    </tr>\n",
       "    <tr>\n",
       "      <th>20</th>\n",
       "      <td>籍凯</td>\n",
       "      <td>杰县</td>\n",
       "      <td>52</td>\n",
       "      <td>175</td>\n",
       "      <td>133</td>\n",
       "    </tr>\n",
       "    <tr>\n",
       "      <th>21</th>\n",
       "      <td>阎洋</td>\n",
       "      <td>敏县</td>\n",
       "      <td>46</td>\n",
       "      <td>180</td>\n",
       "      <td>107</td>\n",
       "    </tr>\n",
       "    <tr>\n",
       "      <th>22</th>\n",
       "      <td>良文</td>\n",
       "      <td>六安县</td>\n",
       "      <td>59</td>\n",
       "      <td>169</td>\n",
       "      <td>114</td>\n",
       "    </tr>\n",
       "    <tr>\n",
       "      <th>23</th>\n",
       "      <td>师金凤</td>\n",
       "      <td>宁市</td>\n",
       "      <td>20</td>\n",
       "      <td>173</td>\n",
       "      <td>149</td>\n",
       "    </tr>\n",
       "    <tr>\n",
       "      <th>24</th>\n",
       "      <td>马婷婷</td>\n",
       "      <td>晶县</td>\n",
       "      <td>40</td>\n",
       "      <td>174</td>\n",
       "      <td>145</td>\n",
       "    </tr>\n",
       "    <tr>\n",
       "      <th>25</th>\n",
       "      <td>红莉</td>\n",
       "      <td>昆明市</td>\n",
       "      <td>49</td>\n",
       "      <td>175</td>\n",
       "      <td>106</td>\n",
       "    </tr>\n",
       "    <tr>\n",
       "      <th>26</th>\n",
       "      <td>弘玉英</td>\n",
       "      <td>郑州县</td>\n",
       "      <td>54</td>\n",
       "      <td>160</td>\n",
       "      <td>117</td>\n",
       "    </tr>\n",
       "    <tr>\n",
       "      <th>27</th>\n",
       "      <td>包芳</td>\n",
       "      <td>呼和浩特县</td>\n",
       "      <td>22</td>\n",
       "      <td>188</td>\n",
       "      <td>136</td>\n",
       "    </tr>\n",
       "    <tr>\n",
       "      <th>28</th>\n",
       "      <td>茹秀兰</td>\n",
       "      <td>贵阳县</td>\n",
       "      <td>39</td>\n",
       "      <td>168</td>\n",
       "      <td>136</td>\n",
       "    </tr>\n",
       "    <tr>\n",
       "      <th>29</th>\n",
       "      <td>充英</td>\n",
       "      <td>红市</td>\n",
       "      <td>35</td>\n",
       "      <td>189</td>\n",
       "      <td>125</td>\n",
       "    </tr>\n",
       "    <tr>\n",
       "      <th>...</th>\n",
       "      <td>...</td>\n",
       "      <td>...</td>\n",
       "      <td>...</td>\n",
       "      <td>...</td>\n",
       "      <td>...</td>\n",
       "    </tr>\n",
       "    <tr>\n",
       "      <th>470</th>\n",
       "      <td>于雪梅</td>\n",
       "      <td>晨市</td>\n",
       "      <td>47</td>\n",
       "      <td>189</td>\n",
       "      <td>141</td>\n",
       "    </tr>\n",
       "    <tr>\n",
       "      <th>471</th>\n",
       "      <td>宇柳</td>\n",
       "      <td>沈阳县</td>\n",
       "      <td>24</td>\n",
       "      <td>164</td>\n",
       "      <td>140</td>\n",
       "    </tr>\n",
       "    <tr>\n",
       "      <th>472</th>\n",
       "      <td>孙宁</td>\n",
       "      <td>哈尔滨县</td>\n",
       "      <td>23</td>\n",
       "      <td>180</td>\n",
       "      <td>132</td>\n",
       "    </tr>\n",
       "    <tr>\n",
       "      <th>473</th>\n",
       "      <td>柯龙</td>\n",
       "      <td>鹏县</td>\n",
       "      <td>57</td>\n",
       "      <td>171</td>\n",
       "      <td>158</td>\n",
       "    </tr>\n",
       "    <tr>\n",
       "      <th>474</th>\n",
       "      <td>宰红霞</td>\n",
       "      <td>西安县</td>\n",
       "      <td>34</td>\n",
       "      <td>183</td>\n",
       "      <td>154</td>\n",
       "    </tr>\n",
       "    <tr>\n",
       "      <th>475</th>\n",
       "      <td>夏玉英</td>\n",
       "      <td>邯郸县</td>\n",
       "      <td>58</td>\n",
       "      <td>176</td>\n",
       "      <td>103</td>\n",
       "    </tr>\n",
       "    <tr>\n",
       "      <th>476</th>\n",
       "      <td>郎杰</td>\n",
       "      <td>合山市</td>\n",
       "      <td>50</td>\n",
       "      <td>165</td>\n",
       "      <td>112</td>\n",
       "    </tr>\n",
       "    <tr>\n",
       "      <th>477</th>\n",
       "      <td>蒯玉</td>\n",
       "      <td>南昌县</td>\n",
       "      <td>51</td>\n",
       "      <td>167</td>\n",
       "      <td>148</td>\n",
       "    </tr>\n",
       "    <tr>\n",
       "      <th>478</th>\n",
       "      <td>虞勇</td>\n",
       "      <td>合肥市</td>\n",
       "      <td>53</td>\n",
       "      <td>160</td>\n",
       "      <td>144</td>\n",
       "    </tr>\n",
       "    <tr>\n",
       "      <th>479</th>\n",
       "      <td>习雷</td>\n",
       "      <td>静市</td>\n",
       "      <td>40</td>\n",
       "      <td>163</td>\n",
       "      <td>132</td>\n",
       "    </tr>\n",
       "    <tr>\n",
       "      <th>480</th>\n",
       "      <td>邢建</td>\n",
       "      <td>超市</td>\n",
       "      <td>40</td>\n",
       "      <td>182</td>\n",
       "      <td>105</td>\n",
       "    </tr>\n",
       "    <tr>\n",
       "      <th>481</th>\n",
       "      <td>燕华</td>\n",
       "      <td>玉珍县</td>\n",
       "      <td>50</td>\n",
       "      <td>161</td>\n",
       "      <td>146</td>\n",
       "    </tr>\n",
       "    <tr>\n",
       "      <th>482</th>\n",
       "      <td>伯彬</td>\n",
       "      <td>凯市</td>\n",
       "      <td>47</td>\n",
       "      <td>177</td>\n",
       "      <td>129</td>\n",
       "    </tr>\n",
       "    <tr>\n",
       "      <th>483</th>\n",
       "      <td>尹婷婷</td>\n",
       "      <td>太原县</td>\n",
       "      <td>52</td>\n",
       "      <td>168</td>\n",
       "      <td>144</td>\n",
       "    </tr>\n",
       "    <tr>\n",
       "      <th>484</th>\n",
       "      <td>粱建军</td>\n",
       "      <td>北京县</td>\n",
       "      <td>55</td>\n",
       "      <td>179</td>\n",
       "      <td>134</td>\n",
       "    </tr>\n",
       "    <tr>\n",
       "      <th>485</th>\n",
       "      <td>后娜</td>\n",
       "      <td>飞县</td>\n",
       "      <td>21</td>\n",
       "      <td>180</td>\n",
       "      <td>148</td>\n",
       "    </tr>\n",
       "    <tr>\n",
       "      <th>486</th>\n",
       "      <td>西亮</td>\n",
       "      <td>英县</td>\n",
       "      <td>45</td>\n",
       "      <td>173</td>\n",
       "      <td>136</td>\n",
       "    </tr>\n",
       "    <tr>\n",
       "      <th>487</th>\n",
       "      <td>荆淑珍</td>\n",
       "      <td>兴安盟市</td>\n",
       "      <td>52</td>\n",
       "      <td>188</td>\n",
       "      <td>118</td>\n",
       "    </tr>\n",
       "    <tr>\n",
       "      <th>488</th>\n",
       "      <td>驷淑华</td>\n",
       "      <td>嘉禾市</td>\n",
       "      <td>57</td>\n",
       "      <td>166</td>\n",
       "      <td>133</td>\n",
       "    </tr>\n",
       "    <tr>\n",
       "      <th>489</th>\n",
       "      <td>孙萍</td>\n",
       "      <td>昆明县</td>\n",
       "      <td>57</td>\n",
       "      <td>160</td>\n",
       "      <td>103</td>\n",
       "    </tr>\n",
       "    <tr>\n",
       "      <th>490</th>\n",
       "      <td>邬秀兰</td>\n",
       "      <td>澳门市</td>\n",
       "      <td>45</td>\n",
       "      <td>176</td>\n",
       "      <td>135</td>\n",
       "    </tr>\n",
       "    <tr>\n",
       "      <th>491</th>\n",
       "      <td>璩林</td>\n",
       "      <td>淮安县</td>\n",
       "      <td>42</td>\n",
       "      <td>166</td>\n",
       "      <td>101</td>\n",
       "    </tr>\n",
       "    <tr>\n",
       "      <th>492</th>\n",
       "      <td>葛英</td>\n",
       "      <td>北京县</td>\n",
       "      <td>28</td>\n",
       "      <td>183</td>\n",
       "      <td>139</td>\n",
       "    </tr>\n",
       "    <tr>\n",
       "      <th>493</th>\n",
       "      <td>农瑞</td>\n",
       "      <td>健市</td>\n",
       "      <td>53</td>\n",
       "      <td>171</td>\n",
       "      <td>139</td>\n",
       "    </tr>\n",
       "    <tr>\n",
       "      <th>494</th>\n",
       "      <td>安雷</td>\n",
       "      <td>秀梅县</td>\n",
       "      <td>49</td>\n",
       "      <td>184</td>\n",
       "      <td>158</td>\n",
       "    </tr>\n",
       "    <tr>\n",
       "      <th>495</th>\n",
       "      <td>涂玲</td>\n",
       "      <td>兵县</td>\n",
       "      <td>24</td>\n",
       "      <td>168</td>\n",
       "      <td>124</td>\n",
       "    </tr>\n",
       "    <tr>\n",
       "      <th>496</th>\n",
       "      <td>于建平</td>\n",
       "      <td>洋市</td>\n",
       "      <td>30</td>\n",
       "      <td>175</td>\n",
       "      <td>137</td>\n",
       "    </tr>\n",
       "    <tr>\n",
       "      <th>497</th>\n",
       "      <td>彭凤英</td>\n",
       "      <td>桂花市</td>\n",
       "      <td>57</td>\n",
       "      <td>170</td>\n",
       "      <td>119</td>\n",
       "    </tr>\n",
       "    <tr>\n",
       "      <th>498</th>\n",
       "      <td>干阳</td>\n",
       "      <td>帅县</td>\n",
       "      <td>39</td>\n",
       "      <td>173</td>\n",
       "      <td>149</td>\n",
       "    </tr>\n",
       "    <tr>\n",
       "      <th>499</th>\n",
       "      <td>雷俊</td>\n",
       "      <td>柳州县</td>\n",
       "      <td>42</td>\n",
       "      <td>175</td>\n",
       "      <td>116</td>\n",
       "    </tr>\n",
       "  </tbody>\n",
       "</table>\n",
       "<p>500 rows × 5 columns</p>\n",
       "</div>"
      ],
      "text/plain": [
       "    name   city  age  height  weight\n",
       "0     危琳    兴城市   43     164     156\n",
       "1    颛春梅    潜江县   29     181     114\n",
       "2     韶璐    深圳县   25     170     149\n",
       "3     父想    大冶县   50     172     138\n",
       "4    逄建国     彬县   48     169     110\n",
       "5     车静    宁德县   56     177     119\n",
       "6    俟玉梅     莉县   47     176     125\n",
       "7     岳博    通辽县   51     162     118\n",
       "8     璩柳     建县   31     189     154\n",
       "9     空龙    西宁县   23     179     150\n",
       "10    濮婷     文县   50     172     121\n",
       "11    勾婷    武汉县   50     184     141\n",
       "12    苍萍     凯市   27     174     120\n",
       "13    邰帆    上海县   45     174     151\n",
       "14    东红     华县   30     166     123\n",
       "15    孙文     华县   50     169     110\n",
       "16    松飞     华县   57     174     116\n",
       "17    水琳     阳县   36     163     142\n",
       "18    简平    辽阳市   57     181     110\n",
       "19    慕雪    海口市   22     177     150\n",
       "20    籍凯     杰县   52     175     133\n",
       "21    阎洋     敏县   46     180     107\n",
       "22    良文    六安县   59     169     114\n",
       "23   师金凤     宁市   20     173     149\n",
       "24   马婷婷     晶县   40     174     145\n",
       "25    红莉    昆明市   49     175     106\n",
       "26   弘玉英    郑州县   54     160     117\n",
       "27    包芳  呼和浩特县   22     188     136\n",
       "28   茹秀兰    贵阳县   39     168     136\n",
       "29    充英     红市   35     189     125\n",
       "..   ...    ...  ...     ...     ...\n",
       "470  于雪梅     晨市   47     189     141\n",
       "471   宇柳    沈阳县   24     164     140\n",
       "472   孙宁   哈尔滨县   23     180     132\n",
       "473   柯龙     鹏县   57     171     158\n",
       "474  宰红霞    西安县   34     183     154\n",
       "475  夏玉英    邯郸县   58     176     103\n",
       "476   郎杰    合山市   50     165     112\n",
       "477   蒯玉    南昌县   51     167     148\n",
       "478   虞勇    合肥市   53     160     144\n",
       "479   习雷     静市   40     163     132\n",
       "480   邢建     超市   40     182     105\n",
       "481   燕华    玉珍县   50     161     146\n",
       "482   伯彬     凯市   47     177     129\n",
       "483  尹婷婷    太原县   52     168     144\n",
       "484  粱建军    北京县   55     179     134\n",
       "485   后娜     飞县   21     180     148\n",
       "486   西亮     英县   45     173     136\n",
       "487  荆淑珍   兴安盟市   52     188     118\n",
       "488  驷淑华    嘉禾市   57     166     133\n",
       "489   孙萍    昆明县   57     160     103\n",
       "490  邬秀兰    澳门市   45     176     135\n",
       "491   璩林    淮安县   42     166     101\n",
       "492   葛英    北京县   28     183     139\n",
       "493   农瑞     健市   53     171     139\n",
       "494   安雷    秀梅县   49     184     158\n",
       "495   涂玲     兵县   24     168     124\n",
       "496  于建平     洋市   30     175     137\n",
       "497  彭凤英    桂花市   57     170     119\n",
       "498   干阳     帅县   39     173     149\n",
       "499   雷俊    柳州县   42     175     116\n",
       "\n",
       "[500 rows x 5 columns]"
      ]
     },
     "execution_count": 18,
     "metadata": {},
     "output_type": "execute_result"
    }
   ],
   "source": [
    "df"
   ]
  },
  {
   "cell_type": "raw",
   "metadata": {},
   "source": [
    "df.head(5)"
   ]
  },
  {
   "cell_type": "markdown",
   "metadata": {},
   "source": [
    "- Series之间进行运算\n",
    "    - 在Series中自动对齐不同索引的数据\n",
    "    - 如果索引不对应，则补NaN"
   ]
  },
  {
   "cell_type": "code",
   "execution_count": 34,
   "metadata": {},
   "outputs": [],
   "source": [
    "s1 = pd.Series([2,4,6,8],index=['a','b','c','d'])\n",
    "s2 = pd.Series([1,3,5,7],index=['a','b','e','f'])"
   ]
  },
  {
   "cell_type": "code",
   "execution_count": 35,
   "metadata": {},
   "outputs": [
    {
     "data": {
      "text/plain": [
       "a    3.0\n",
       "b    7.0\n",
       "c    NaN\n",
       "d    NaN\n",
       "e    NaN\n",
       "f    NaN\n",
       "dtype: float64"
      ]
     },
     "execution_count": 35,
     "metadata": {},
     "output_type": "execute_result"
    }
   ],
   "source": [
    "#Series相加时，是将其索引值相同的进行相加\n",
    "s1 + s2"
   ]
  },
  {
   "cell_type": "markdown",
   "metadata": {},
   "source": [
    "- 注意：想要保留所有的index，则需要使用`.add()`函数"
   ]
  },
  {
   "cell_type": "code",
   "execution_count": 39,
   "metadata": {},
   "outputs": [
    {
     "data": {
      "text/plain": [
       "a    3.0\n",
       "b    7.0\n",
       "c    6.0\n",
       "d    8.0\n",
       "e    5.0\n",
       "f    7.0\n",
       "dtype: float64"
      ]
     },
     "execution_count": 39,
     "metadata": {},
     "output_type": "execute_result"
    }
   ],
   "source": [
    "s1.add(s2,fill_value=0)"
   ]
  },
  {
   "cell_type": "markdown",
   "metadata": {},
   "source": [
    "## 2.DataFrame\n",
    "- DataFrame是一个【表格型】的数据结构，可以看做是【由Series组成的字典】（共用同一索引）。DataFrame由按一定顺序排列的多列数据组成。设计初衷是将Series的使用场景从一维拓展到多维。DataFrame既有行索引，也有列索引。\n",
    "    - 行索引：index\n",
    "    - 列索引：columns\n",
    "    - 值：values（numpy的二维数组）"
   ]
  },
  {
   "cell_type": "code",
   "execution_count": 40,
   "metadata": {},
   "outputs": [
    {
     "data": {
      "text/html": [
       "<div>\n",
       "<style scoped>\n",
       "    .dataframe tbody tr th:only-of-type {\n",
       "        vertical-align: middle;\n",
       "    }\n",
       "\n",
       "    .dataframe tbody tr th {\n",
       "        vertical-align: top;\n",
       "    }\n",
       "\n",
       "    .dataframe thead th {\n",
       "        text-align: right;\n",
       "    }\n",
       "</style>\n",
       "<table border=\"1\" class=\"dataframe\">\n",
       "  <thead>\n",
       "    <tr style=\"text-align: right;\">\n",
       "      <th></th>\n",
       "      <th>name</th>\n",
       "      <th>city</th>\n",
       "      <th>age</th>\n",
       "      <th>height</th>\n",
       "      <th>weight</th>\n",
       "    </tr>\n",
       "  </thead>\n",
       "  <tbody>\n",
       "    <tr>\n",
       "      <th>0</th>\n",
       "      <td>危琳</td>\n",
       "      <td>兴城市</td>\n",
       "      <td>43</td>\n",
       "      <td>164</td>\n",
       "      <td>156</td>\n",
       "    </tr>\n",
       "    <tr>\n",
       "      <th>1</th>\n",
       "      <td>颛春梅</td>\n",
       "      <td>潜江县</td>\n",
       "      <td>29</td>\n",
       "      <td>181</td>\n",
       "      <td>114</td>\n",
       "    </tr>\n",
       "    <tr>\n",
       "      <th>2</th>\n",
       "      <td>韶璐</td>\n",
       "      <td>深圳县</td>\n",
       "      <td>25</td>\n",
       "      <td>170</td>\n",
       "      <td>149</td>\n",
       "    </tr>\n",
       "    <tr>\n",
       "      <th>3</th>\n",
       "      <td>父想</td>\n",
       "      <td>大冶县</td>\n",
       "      <td>50</td>\n",
       "      <td>172</td>\n",
       "      <td>138</td>\n",
       "    </tr>\n",
       "    <tr>\n",
       "      <th>4</th>\n",
       "      <td>逄建国</td>\n",
       "      <td>彬县</td>\n",
       "      <td>48</td>\n",
       "      <td>169</td>\n",
       "      <td>110</td>\n",
       "    </tr>\n",
       "  </tbody>\n",
       "</table>\n",
       "</div>"
      ],
      "text/plain": [
       "  name city  age  height  weight\n",
       "0   危琳  兴城市   43     164     156\n",
       "1  颛春梅  潜江县   29     181     114\n",
       "2   韶璐  深圳县   25     170     149\n",
       "3   父想  大冶县   50     172     138\n",
       "4  逄建国   彬县   48     169     110"
      ]
     },
     "execution_count": 40,
     "metadata": {},
     "output_type": "execute_result"
    }
   ],
   "source": [
    "df.head(5)"
   ]
  },
  {
   "cell_type": "code",
   "execution_count": 41,
   "metadata": {},
   "outputs": [
    {
     "data": {
      "text/plain": [
       "Int64Index([  0,   1,   2,   3,   4,   5,   6,   7,   8,   9,\n",
       "            ...\n",
       "            490, 491, 492, 493, 494, 495, 496, 497, 498, 499],\n",
       "           dtype='int64', length=500)"
      ]
     },
     "metadata": {},
     "output_type": "display_data"
    },
    {
     "data": {
      "text/plain": [
       "Index(['name', 'city', 'age', 'height', 'weight'], dtype='object')"
      ]
     },
     "metadata": {},
     "output_type": "display_data"
    },
    {
     "data": {
      "text/plain": [
       "array([['危琳', '兴城市', 43, 164, 156],\n",
       "       ['颛春梅', '潜江县', 29, 181, 114],\n",
       "       ['韶璐', '深圳县', 25, 170, 149],\n",
       "       ...,\n",
       "       ['彭凤英', '桂花市', 57, 170, 119],\n",
       "       ['干阳', '帅县', 39, 173, 149],\n",
       "       ['雷俊', '柳州县', 42, 175, 116]], dtype=object)"
      ]
     },
     "metadata": {},
     "output_type": "display_data"
    },
    {
     "data": {
      "text/plain": [
       "(500, 5)"
      ]
     },
     "metadata": {},
     "output_type": "display_data"
    }
   ],
   "source": [
    "display(df.index,df.columns,df.values,df.values.shape)"
   ]
  },
  {
   "cell_type": "markdown",
   "metadata": {},
   "source": [
    "### 2.1DataFrame的创建\n",
    "- 最常用的方法是传递一个字典来创建。DataFrame以字典的键作为每一【列】的名称，以字典的值（一个数组）作为每一列。此外，DataFrame会自动加上每一行的索引（和Series一样）。\n",
    "- 同Series一样，若传入的列与字典的键不匹配，则相应的值为NaN。"
   ]
  },
  {
   "cell_type": "code",
   "execution_count": 49,
   "metadata": {},
   "outputs": [
    {
     "data": {
      "text/html": [
       "<div>\n",
       "<style scoped>\n",
       "    .dataframe tbody tr th:only-of-type {\n",
       "        vertical-align: middle;\n",
       "    }\n",
       "\n",
       "    .dataframe tbody tr th {\n",
       "        vertical-align: top;\n",
       "    }\n",
       "\n",
       "    .dataframe thead th {\n",
       "        text-align: right;\n",
       "    }\n",
       "</style>\n",
       "<table border=\"1\" class=\"dataframe\">\n",
       "  <thead>\n",
       "    <tr style=\"text-align: right;\">\n",
       "      <th></th>\n",
       "      <th>name</th>\n",
       "      <th>age</th>\n",
       "      <th>sex</th>\n",
       "    </tr>\n",
       "  </thead>\n",
       "  <tbody>\n",
       "    <tr>\n",
       "      <th>A</th>\n",
       "      <td>zhangsan</td>\n",
       "      <td>23</td>\n",
       "      <td>男</td>\n",
       "    </tr>\n",
       "    <tr>\n",
       "      <th>B</th>\n",
       "      <td>lisi</td>\n",
       "      <td>24</td>\n",
       "      <td>女</td>\n",
       "    </tr>\n",
       "    <tr>\n",
       "      <th>C</th>\n",
       "      <td>wangwu</td>\n",
       "      <td>22</td>\n",
       "      <td>女</td>\n",
       "    </tr>\n",
       "    <tr>\n",
       "      <th>D</th>\n",
       "      <td>zhaoliu</td>\n",
       "      <td>25</td>\n",
       "      <td>男</td>\n",
       "    </tr>\n",
       "  </tbody>\n",
       "</table>\n",
       "</div>"
      ],
      "text/plain": [
       "       name  age sex\n",
       "A  zhangsan   23   男\n",
       "B      lisi   24   女\n",
       "C    wangwu   22   女\n",
       "D   zhaoliu   25   男"
      ]
     },
     "execution_count": 49,
     "metadata": {},
     "output_type": "execute_result"
    }
   ],
   "source": [
    "df = pd.DataFrame({'name':['zhangsan','lisi','wangwu','zhaoliu'],\n",
    "                   'age': np.random.randint(20,26,size=4),'sex':['男','女','女','男']},index= list('ABCD'),\n",
    "                 columns = ['name','age','sex'])\n",
    "df"
   ]
  },
  {
   "cell_type": "markdown",
   "metadata": {},
   "source": [
    "- DataFrame的属性：values、columns、index、shape"
   ]
  },
  {
   "cell_type": "code",
   "execution_count": 50,
   "metadata": {},
   "outputs": [
    {
     "data": {
      "text/plain": [
       "(4, 3)"
      ]
     },
     "execution_count": 50,
     "metadata": {},
     "output_type": "execute_result"
    }
   ],
   "source": [
    "df.shape"
   ]
  },
  {
   "cell_type": "markdown",
   "metadata": {},
   "source": [
    "```\n",
    "#练习\n",
    "根据以下考试成绩表，创建一个DataFrame,命名为df：\n",
    "      张三  李四\n",
    "语文   150   0\n",
    "数学   150   0\n",
    "英语   150   0\n",
    "理综   300   0\n",
    "```"
   ]
  },
  {
   "cell_type": "code",
   "execution_count": 80,
   "metadata": {},
   "outputs": [
    {
     "data": {
      "text/html": [
       "<div>\n",
       "<style scoped>\n",
       "    .dataframe tbody tr th:only-of-type {\n",
       "        vertical-align: middle;\n",
       "    }\n",
       "\n",
       "    .dataframe tbody tr th {\n",
       "        vertical-align: top;\n",
       "    }\n",
       "\n",
       "    .dataframe thead th {\n",
       "        text-align: right;\n",
       "    }\n",
       "</style>\n",
       "<table border=\"1\" class=\"dataframe\">\n",
       "  <thead>\n",
       "    <tr style=\"text-align: right;\">\n",
       "      <th></th>\n",
       "      <th>张三</th>\n",
       "      <th>李四</th>\n",
       "    </tr>\n",
       "  </thead>\n",
       "  <tbody>\n",
       "    <tr>\n",
       "      <th>语文</th>\n",
       "      <td>150</td>\n",
       "      <td>0</td>\n",
       "    </tr>\n",
       "    <tr>\n",
       "      <th>数学</th>\n",
       "      <td>150</td>\n",
       "      <td>0</td>\n",
       "    </tr>\n",
       "    <tr>\n",
       "      <th>英语</th>\n",
       "      <td>150</td>\n",
       "      <td>0</td>\n",
       "    </tr>\n",
       "    <tr>\n",
       "      <th>理综</th>\n",
       "      <td>300</td>\n",
       "      <td>0</td>\n",
       "    </tr>\n",
       "  </tbody>\n",
       "</table>\n",
       "</div>"
      ],
      "text/plain": [
       "     张三  李四\n",
       "语文  150   0\n",
       "数学  150   0\n",
       "英语  150   0\n",
       "理综  300   0"
      ]
     },
     "execution_count": 80,
     "metadata": {},
     "output_type": "execute_result"
    }
   ],
   "source": [
    "df = pd.DataFrame({'张三':[150,150,150,300],'李四':[0,0,0,0]},index=['语文','数学','英语','理综'])\n",
    "df"
   ]
  },
  {
   "cell_type": "markdown",
   "metadata": {},
   "source": [
    "### 2.2DataFrame的索引\n",
    "- 1.对列进行索引\n",
    "    - 通过类似字典的方式\n",
    "    - 通过属性的方式\n",
    "- 可以将DataFrame的列获取为一个Series。返回的Series拥有原DataFrame相同的索引，且name属性也已经设置好了，就是相应的列名。"
   ]
  },
  {
   "cell_type": "code",
   "execution_count": 51,
   "metadata": {},
   "outputs": [
    {
     "data": {
      "text/html": [
       "<div>\n",
       "<style scoped>\n",
       "    .dataframe tbody tr th:only-of-type {\n",
       "        vertical-align: middle;\n",
       "    }\n",
       "\n",
       "    .dataframe tbody tr th {\n",
       "        vertical-align: top;\n",
       "    }\n",
       "\n",
       "    .dataframe thead th {\n",
       "        text-align: right;\n",
       "    }\n",
       "</style>\n",
       "<table border=\"1\" class=\"dataframe\">\n",
       "  <thead>\n",
       "    <tr style=\"text-align: right;\">\n",
       "      <th></th>\n",
       "      <th>name</th>\n",
       "      <th>age</th>\n",
       "      <th>sex</th>\n",
       "    </tr>\n",
       "  </thead>\n",
       "  <tbody>\n",
       "    <tr>\n",
       "      <th>A</th>\n",
       "      <td>zhangsan</td>\n",
       "      <td>24</td>\n",
       "      <td>男</td>\n",
       "    </tr>\n",
       "    <tr>\n",
       "      <th>B</th>\n",
       "      <td>lisi</td>\n",
       "      <td>23</td>\n",
       "      <td>女</td>\n",
       "    </tr>\n",
       "    <tr>\n",
       "      <th>C</th>\n",
       "      <td>wangwu</td>\n",
       "      <td>22</td>\n",
       "      <td>女</td>\n",
       "    </tr>\n",
       "    <tr>\n",
       "      <th>D</th>\n",
       "      <td>zhaoliu</td>\n",
       "      <td>22</td>\n",
       "      <td>男</td>\n",
       "    </tr>\n",
       "  </tbody>\n",
       "</table>\n",
       "</div>"
      ],
      "text/plain": [
       "       name  age sex\n",
       "A  zhangsan   24   男\n",
       "B      lisi   23   女\n",
       "C    wangwu   22   女\n",
       "D   zhaoliu   22   男"
      ]
     },
     "execution_count": 51,
     "metadata": {},
     "output_type": "execute_result"
    }
   ],
   "source": [
    "df = pd.DataFrame({'name':['zhangsan','lisi','wangwu','zhaoliu'],\n",
    "                   'age': np.random.randint(20,26,size=4),'sex':['男','女','女','男']},index= list('ABCD'),\n",
    "                 columns = ['name','age','sex'])\n",
    "df"
   ]
  },
  {
   "cell_type": "code",
   "execution_count": 55,
   "metadata": {},
   "outputs": [
    {
     "data": {
      "text/plain": [
       "pandas.core.series.Series"
      ]
     },
     "metadata": {},
     "output_type": "display_data"
    },
    {
     "data": {
      "text/plain": [
       "A    zhangsan\n",
       "B        lisi\n",
       "C      wangwu\n",
       "D     zhaoliu\n",
       "Name: name, dtype: object"
      ]
     },
     "metadata": {},
     "output_type": "display_data"
    }
   ],
   "source": [
    "#t通过字典的方式对列进行索引，返回一个Series\n",
    "name = df['name']\n",
    "display(type(name),name)"
   ]
  },
  {
   "cell_type": "code",
   "execution_count": 57,
   "metadata": {},
   "outputs": [
    {
     "data": {
      "text/plain": [
       "pandas.core.series.Series"
      ]
     },
     "metadata": {},
     "output_type": "display_data"
    },
    {
     "data": {
      "text/plain": [
       "A    24\n",
       "B    23\n",
       "C    22\n",
       "D    22\n",
       "Name: age, dtype: int32"
      ]
     },
     "metadata": {},
     "output_type": "display_data"
    }
   ],
   "source": [
    "#通过属性的方式对列进行索引,返回一个Series\n",
    "age = df.age\n",
    "display(type(age),age)"
   ]
  },
  {
   "cell_type": "markdown",
   "metadata": {},
   "source": [
    "- 2.对行进行索引\n",
    "    - 使用`.ix[]`来进行行索引\n",
    "    - 使用`.loc[]`加index来进行行索引\n",
    "    - 使用`.iloc[]`加整数来进行行索引\n",
    "- 同样返回一个Series，index为原来的columns。"
   ]
  },
  {
   "cell_type": "code",
   "execution_count": 63,
   "metadata": {},
   "outputs": [
    {
     "data": {
      "text/plain": [
       "name    zhangsan\n",
       "age           24\n",
       "sex            男\n",
       "Name: A, dtype: object"
      ]
     },
     "execution_count": 63,
     "metadata": {},
     "output_type": "execute_result"
    }
   ],
   "source": [
    "#对行的检索，返回值还是Series\n",
    "df.loc['A']"
   ]
  },
  {
   "cell_type": "code",
   "execution_count": 64,
   "metadata": {},
   "outputs": [
    {
     "data": {
      "text/html": [
       "<div>\n",
       "<style scoped>\n",
       "    .dataframe tbody tr th:only-of-type {\n",
       "        vertical-align: middle;\n",
       "    }\n",
       "\n",
       "    .dataframe tbody tr th {\n",
       "        vertical-align: top;\n",
       "    }\n",
       "\n",
       "    .dataframe thead th {\n",
       "        text-align: right;\n",
       "    }\n",
       "</style>\n",
       "<table border=\"1\" class=\"dataframe\">\n",
       "  <thead>\n",
       "    <tr style=\"text-align: right;\">\n",
       "      <th></th>\n",
       "      <th>name</th>\n",
       "      <th>age</th>\n",
       "      <th>sex</th>\n",
       "    </tr>\n",
       "  </thead>\n",
       "  <tbody>\n",
       "    <tr>\n",
       "      <th>A</th>\n",
       "      <td>zhangsan</td>\n",
       "      <td>24</td>\n",
       "      <td>男</td>\n",
       "    </tr>\n",
       "    <tr>\n",
       "      <th>B</th>\n",
       "      <td>lisi</td>\n",
       "      <td>23</td>\n",
       "      <td>女</td>\n",
       "    </tr>\n",
       "  </tbody>\n",
       "</table>\n",
       "</div>"
      ],
      "text/plain": [
       "       name  age sex\n",
       "A  zhangsan   24   男\n",
       "B      lisi   23   女"
      ]
     },
     "execution_count": 64,
     "metadata": {},
     "output_type": "execute_result"
    }
   ],
   "source": [
    "#检索多行返回的数据是DataFrame\n",
    "df.loc[['A','B']]"
   ]
  },
  {
   "cell_type": "code",
   "execution_count": 67,
   "metadata": {},
   "outputs": [
    {
     "data": {
      "text/html": [
       "<div>\n",
       "<style scoped>\n",
       "    .dataframe tbody tr th:only-of-type {\n",
       "        vertical-align: middle;\n",
       "    }\n",
       "\n",
       "    .dataframe tbody tr th {\n",
       "        vertical-align: top;\n",
       "    }\n",
       "\n",
       "    .dataframe thead th {\n",
       "        text-align: right;\n",
       "    }\n",
       "</style>\n",
       "<table border=\"1\" class=\"dataframe\">\n",
       "  <thead>\n",
       "    <tr style=\"text-align: right;\">\n",
       "      <th></th>\n",
       "      <th>name</th>\n",
       "      <th>age</th>\n",
       "      <th>sex</th>\n",
       "    </tr>\n",
       "  </thead>\n",
       "  <tbody>\n",
       "    <tr>\n",
       "      <th>A</th>\n",
       "      <td>zhangsan</td>\n",
       "      <td>24</td>\n",
       "      <td>男</td>\n",
       "    </tr>\n",
       "    <tr>\n",
       "      <th>B</th>\n",
       "      <td>lisi</td>\n",
       "      <td>23</td>\n",
       "      <td>女</td>\n",
       "    </tr>\n",
       "    <tr>\n",
       "      <th>C</th>\n",
       "      <td>wangwu</td>\n",
       "      <td>22</td>\n",
       "      <td>女</td>\n",
       "    </tr>\n",
       "  </tbody>\n",
       "</table>\n",
       "</div>"
      ],
      "text/plain": [
       "       name  age sex\n",
       "A  zhangsan   24   男\n",
       "B      lisi   23   女\n",
       "C    wangwu   22   女"
      ]
     },
     "execution_count": 67,
     "metadata": {},
     "output_type": "execute_result"
    }
   ],
   "source": [
    "#对行进行切片索引\n",
    "df.loc['A':'C']"
   ]
  },
  {
   "cell_type": "markdown",
   "metadata": {},
   "source": [
    "-  3.对元素索引的方法\n",
    "    - 使用列索引\n",
    "    - 使用行索引（iloc[3,1]相当于两个参数；iloc[[3,3]]里面的[3,3]看做一个参数）\n",
    "    - 使用values属性（二维numpy数组）"
   ]
  },
  {
   "cell_type": "code",
   "execution_count": 68,
   "metadata": {},
   "outputs": [
    {
     "data": {
      "text/plain": [
       "'lisi'"
      ]
     },
     "execution_count": 68,
     "metadata": {},
     "output_type": "execute_result"
    }
   ],
   "source": [
    "#使用列索引\n",
    "df['name']['B']"
   ]
  },
  {
   "cell_type": "code",
   "execution_count": 69,
   "metadata": {},
   "outputs": [
    {
     "data": {
      "text/plain": [
       "22"
      ]
     },
     "execution_count": 69,
     "metadata": {},
     "output_type": "execute_result"
    }
   ],
   "source": [
    "#使用行索引\n",
    "df.loc['C']['age']"
   ]
  },
  {
   "cell_type": "code",
   "execution_count": 71,
   "metadata": {},
   "outputs": [
    {
     "data": {
      "text/plain": [
       "'zhaoliu'"
      ]
     },
     "execution_count": 71,
     "metadata": {},
     "output_type": "execute_result"
    }
   ],
   "source": [
    "df.iloc[3,0]"
   ]
  },
  {
   "cell_type": "code",
   "execution_count": 73,
   "metadata": {},
   "outputs": [
    {
     "data": {
      "text/plain": [
       "24"
      ]
     },
     "execution_count": 73,
     "metadata": {},
     "output_type": "execute_result"
    }
   ],
   "source": [
    "df.values[0,1]"
   ]
  },
  {
   "cell_type": "markdown",
   "metadata": {},
   "source": [
    "【注意】直接使用中括号时：\n",
    "- 索引表示的是列索引\n",
    "- 切片表示的是行切片"
   ]
  },
  {
   "cell_type": "code",
   "execution_count": 74,
   "metadata": {},
   "outputs": [
    {
     "data": {
      "text/plain": [
       "A    zhangsan\n",
       "B        lisi\n",
       "C      wangwu\n",
       "D     zhaoliu\n",
       "Name: name, dtype: object"
      ]
     },
     "execution_count": 74,
     "metadata": {},
     "output_type": "execute_result"
    }
   ],
   "source": [
    "df['name']"
   ]
  },
  {
   "cell_type": "code",
   "execution_count": 75,
   "metadata": {},
   "outputs": [
    {
     "data": {
      "text/html": [
       "<div>\n",
       "<style scoped>\n",
       "    .dataframe tbody tr th:only-of-type {\n",
       "        vertical-align: middle;\n",
       "    }\n",
       "\n",
       "    .dataframe tbody tr th {\n",
       "        vertical-align: top;\n",
       "    }\n",
       "\n",
       "    .dataframe thead th {\n",
       "        text-align: right;\n",
       "    }\n",
       "</style>\n",
       "<table border=\"1\" class=\"dataframe\">\n",
       "  <thead>\n",
       "    <tr style=\"text-align: right;\">\n",
       "      <th></th>\n",
       "      <th>name</th>\n",
       "      <th>age</th>\n",
       "      <th>sex</th>\n",
       "    </tr>\n",
       "  </thead>\n",
       "  <tbody>\n",
       "  </tbody>\n",
       "</table>\n",
       "</div>"
      ],
      "text/plain": [
       "Empty DataFrame\n",
       "Columns: [name, age, sex]\n",
       "Index: []"
      ]
     },
     "execution_count": 75,
     "metadata": {},
     "output_type": "execute_result"
    }
   ],
   "source": [
    "df['name':'sex']"
   ]
  },
  {
   "cell_type": "code",
   "execution_count": 77,
   "metadata": {},
   "outputs": [
    {
     "data": {
      "text/html": [
       "<div>\n",
       "<style scoped>\n",
       "    .dataframe tbody tr th:only-of-type {\n",
       "        vertical-align: middle;\n",
       "    }\n",
       "\n",
       "    .dataframe tbody tr th {\n",
       "        vertical-align: top;\n",
       "    }\n",
       "\n",
       "    .dataframe thead th {\n",
       "        text-align: right;\n",
       "    }\n",
       "</style>\n",
       "<table border=\"1\" class=\"dataframe\">\n",
       "  <thead>\n",
       "    <tr style=\"text-align: right;\">\n",
       "      <th></th>\n",
       "      <th>name</th>\n",
       "      <th>age</th>\n",
       "      <th>sex</th>\n",
       "    </tr>\n",
       "  </thead>\n",
       "  <tbody>\n",
       "    <tr>\n",
       "      <th>A</th>\n",
       "      <td>zhangsan</td>\n",
       "      <td>24</td>\n",
       "      <td>男</td>\n",
       "    </tr>\n",
       "    <tr>\n",
       "      <th>B</th>\n",
       "      <td>lisi</td>\n",
       "      <td>23</td>\n",
       "      <td>女</td>\n",
       "    </tr>\n",
       "    <tr>\n",
       "      <th>C</th>\n",
       "      <td>wangwu</td>\n",
       "      <td>22</td>\n",
       "      <td>女</td>\n",
       "    </tr>\n",
       "  </tbody>\n",
       "</table>\n",
       "</div>"
      ],
      "text/plain": [
       "       name  age sex\n",
       "A  zhangsan   24   男\n",
       "B      lisi   23   女\n",
       "C    wangwu   22   女"
      ]
     },
     "execution_count": 77,
     "metadata": {},
     "output_type": "execute_result"
    }
   ],
   "source": [
    "df['A':'C']"
   ]
  },
  {
   "cell_type": "markdown",
   "metadata": {},
   "source": [
    "## 3.DataFrame的运算\n",
    "### 3.1DataFrame之间的运算\n",
    "- 同Series一样：\n",
    "    - 在运算中自动对齐不同索引的数据\n",
    "    - 如果索引不对应，则补NaN"
   ]
  },
  {
   "cell_type": "code",
   "execution_count": 81,
   "metadata": {},
   "outputs": [
    {
     "data": {
      "text/html": [
       "<div>\n",
       "<style scoped>\n",
       "    .dataframe tbody tr th:only-of-type {\n",
       "        vertical-align: middle;\n",
       "    }\n",
       "\n",
       "    .dataframe tbody tr th {\n",
       "        vertical-align: top;\n",
       "    }\n",
       "\n",
       "    .dataframe thead th {\n",
       "        text-align: right;\n",
       "    }\n",
       "</style>\n",
       "<table border=\"1\" class=\"dataframe\">\n",
       "  <thead>\n",
       "    <tr style=\"text-align: right;\">\n",
       "      <th></th>\n",
       "      <th>语文</th>\n",
       "      <th>数学</th>\n",
       "      <th>英语</th>\n",
       "      <th>理综</th>\n",
       "    </tr>\n",
       "  </thead>\n",
       "  <tbody>\n",
       "    <tr>\n",
       "      <th>zhangsan</th>\n",
       "      <td>115</td>\n",
       "      <td>36</td>\n",
       "      <td>73</td>\n",
       "      <td>49</td>\n",
       "    </tr>\n",
       "    <tr>\n",
       "      <th>lisi</th>\n",
       "      <td>33</td>\n",
       "      <td>63</td>\n",
       "      <td>145</td>\n",
       "      <td>142</td>\n",
       "    </tr>\n",
       "    <tr>\n",
       "      <th>wangwu</th>\n",
       "      <td>111</td>\n",
       "      <td>111</td>\n",
       "      <td>115</td>\n",
       "      <td>118</td>\n",
       "    </tr>\n",
       "    <tr>\n",
       "      <th>zhaoliu</th>\n",
       "      <td>109</td>\n",
       "      <td>96</td>\n",
       "      <td>82</td>\n",
       "      <td>67</td>\n",
       "    </tr>\n",
       "  </tbody>\n",
       "</table>\n",
       "</div>"
      ],
      "text/plain": [
       "           语文   数学   英语   理综\n",
       "zhangsan  115   36   73   49\n",
       "lisi       33   63  145  142\n",
       "wangwu    111  111  115  118\n",
       "zhaoliu   109   96   82   67"
      ]
     },
     "execution_count": 81,
     "metadata": {},
     "output_type": "execute_result"
    }
   ],
   "source": [
    "#创建DataFrame df1 不同人员的各科目成绩，月考一\n",
    "df1 = pd.DataFrame(np.random.randint(0,150,size=(4,4)),\n",
    "                   index=['zhangsan','lisi','wangwu','zhaoliu'],\n",
    "                   columns=['语文','数学','英语','理综'])\n",
    "df1"
   ]
  },
  {
   "cell_type": "code",
   "execution_count": 82,
   "metadata": {},
   "outputs": [
    {
     "data": {
      "text/html": [
       "<div>\n",
       "<style scoped>\n",
       "    .dataframe tbody tr th:only-of-type {\n",
       "        vertical-align: middle;\n",
       "    }\n",
       "\n",
       "    .dataframe tbody tr th {\n",
       "        vertical-align: top;\n",
       "    }\n",
       "\n",
       "    .dataframe thead th {\n",
       "        text-align: right;\n",
       "    }\n",
       "</style>\n",
       "<table border=\"1\" class=\"dataframe\">\n",
       "  <thead>\n",
       "    <tr style=\"text-align: right;\">\n",
       "      <th></th>\n",
       "      <th>语文</th>\n",
       "      <th>数学</th>\n",
       "      <th>英语</th>\n",
       "      <th>理综</th>\n",
       "    </tr>\n",
       "  </thead>\n",
       "  <tbody>\n",
       "    <tr>\n",
       "      <th>zhangsan</th>\n",
       "      <td>6</td>\n",
       "      <td>57</td>\n",
       "      <td>64</td>\n",
       "      <td>119</td>\n",
       "    </tr>\n",
       "    <tr>\n",
       "      <th>lisi</th>\n",
       "      <td>116</td>\n",
       "      <td>143</td>\n",
       "      <td>95</td>\n",
       "      <td>91</td>\n",
       "    </tr>\n",
       "    <tr>\n",
       "      <th>wangwu</th>\n",
       "      <td>77</td>\n",
       "      <td>82</td>\n",
       "      <td>64</td>\n",
       "      <td>22</td>\n",
       "    </tr>\n",
       "    <tr>\n",
       "      <th>zhaoliu</th>\n",
       "      <td>22</td>\n",
       "      <td>101</td>\n",
       "      <td>3</td>\n",
       "      <td>43</td>\n",
       "    </tr>\n",
       "    <tr>\n",
       "      <th>tianqi</th>\n",
       "      <td>147</td>\n",
       "      <td>3</td>\n",
       "      <td>33</td>\n",
       "      <td>143</td>\n",
       "    </tr>\n",
       "  </tbody>\n",
       "</table>\n",
       "</div>"
      ],
      "text/plain": [
       "           语文   数学  英语   理综\n",
       "zhangsan    6   57  64  119\n",
       "lisi      116  143  95   91\n",
       "wangwu     77   82  64   22\n",
       "zhaoliu    22  101   3   43\n",
       "tianqi    147    3  33  143"
      ]
     },
     "execution_count": 82,
     "metadata": {},
     "output_type": "execute_result"
    }
   ],
   "source": [
    "#创建DataFrame df2 不同人员的各科目成绩，月考二\n",
    "#有新生转入\n",
    "df2 = pd.DataFrame(np.random.randint(0,150,size=(5,4)),\n",
    "                   index=['zhangsan','lisi','wangwu','zhaoliu','tianqi'],\n",
    "                   columns=['语文','数学','英语','理综'])\n",
    "df2"
   ]
  },
  {
   "cell_type": "code",
   "execution_count": 83,
   "metadata": {},
   "outputs": [
    {
     "data": {
      "text/html": [
       "<div>\n",
       "<style scoped>\n",
       "    .dataframe tbody tr th:only-of-type {\n",
       "        vertical-align: middle;\n",
       "    }\n",
       "\n",
       "    .dataframe tbody tr th {\n",
       "        vertical-align: top;\n",
       "    }\n",
       "\n",
       "    .dataframe thead th {\n",
       "        text-align: right;\n",
       "    }\n",
       "</style>\n",
       "<table border=\"1\" class=\"dataframe\">\n",
       "  <thead>\n",
       "    <tr style=\"text-align: right;\">\n",
       "      <th></th>\n",
       "      <th>语文</th>\n",
       "      <th>数学</th>\n",
       "      <th>英语</th>\n",
       "      <th>理综</th>\n",
       "    </tr>\n",
       "  </thead>\n",
       "  <tbody>\n",
       "    <tr>\n",
       "      <th>lisi</th>\n",
       "      <td>149.0</td>\n",
       "      <td>206.0</td>\n",
       "      <td>240.0</td>\n",
       "      <td>233.0</td>\n",
       "    </tr>\n",
       "    <tr>\n",
       "      <th>tianqi</th>\n",
       "      <td>NaN</td>\n",
       "      <td>NaN</td>\n",
       "      <td>NaN</td>\n",
       "      <td>NaN</td>\n",
       "    </tr>\n",
       "    <tr>\n",
       "      <th>wangwu</th>\n",
       "      <td>188.0</td>\n",
       "      <td>193.0</td>\n",
       "      <td>179.0</td>\n",
       "      <td>140.0</td>\n",
       "    </tr>\n",
       "    <tr>\n",
       "      <th>zhangsan</th>\n",
       "      <td>121.0</td>\n",
       "      <td>93.0</td>\n",
       "      <td>137.0</td>\n",
       "      <td>168.0</td>\n",
       "    </tr>\n",
       "    <tr>\n",
       "      <th>zhaoliu</th>\n",
       "      <td>131.0</td>\n",
       "      <td>197.0</td>\n",
       "      <td>85.0</td>\n",
       "      <td>110.0</td>\n",
       "    </tr>\n",
       "  </tbody>\n",
       "</table>\n",
       "</div>"
      ],
      "text/plain": [
       "             语文     数学     英语     理综\n",
       "lisi      149.0  206.0  240.0  233.0\n",
       "tianqi      NaN    NaN    NaN    NaN\n",
       "wangwu    188.0  193.0  179.0  140.0\n",
       "zhangsan  121.0   93.0  137.0  168.0\n",
       "zhaoliu   131.0  197.0   85.0  110.0"
      ]
     },
     "execution_count": 83,
     "metadata": {},
     "output_type": "execute_result"
    }
   ],
   "source": [
    "df1 + df2"
   ]
  },
  {
   "cell_type": "code",
   "execution_count": 86,
   "metadata": {
    "scrolled": true
   },
   "outputs": [
    {
     "data": {
      "text/html": [
       "<div>\n",
       "<style scoped>\n",
       "    .dataframe tbody tr th:only-of-type {\n",
       "        vertical-align: middle;\n",
       "    }\n",
       "\n",
       "    .dataframe tbody tr th {\n",
       "        vertical-align: top;\n",
       "    }\n",
       "\n",
       "    .dataframe thead th {\n",
       "        text-align: right;\n",
       "    }\n",
       "</style>\n",
       "<table border=\"1\" class=\"dataframe\">\n",
       "  <thead>\n",
       "    <tr style=\"text-align: right;\">\n",
       "      <th></th>\n",
       "      <th>语文</th>\n",
       "      <th>数学</th>\n",
       "      <th>英语</th>\n",
       "      <th>理综</th>\n",
       "    </tr>\n",
       "  </thead>\n",
       "  <tbody>\n",
       "    <tr>\n",
       "      <th>lisi</th>\n",
       "      <td>149.0</td>\n",
       "      <td>206.0</td>\n",
       "      <td>240.0</td>\n",
       "      <td>233.0</td>\n",
       "    </tr>\n",
       "    <tr>\n",
       "      <th>tianqi</th>\n",
       "      <td>147.0</td>\n",
       "      <td>3.0</td>\n",
       "      <td>33.0</td>\n",
       "      <td>143.0</td>\n",
       "    </tr>\n",
       "    <tr>\n",
       "      <th>wangwu</th>\n",
       "      <td>188.0</td>\n",
       "      <td>193.0</td>\n",
       "      <td>179.0</td>\n",
       "      <td>140.0</td>\n",
       "    </tr>\n",
       "    <tr>\n",
       "      <th>zhangsan</th>\n",
       "      <td>121.0</td>\n",
       "      <td>93.0</td>\n",
       "      <td>137.0</td>\n",
       "      <td>168.0</td>\n",
       "    </tr>\n",
       "    <tr>\n",
       "      <th>zhaoliu</th>\n",
       "      <td>131.0</td>\n",
       "      <td>197.0</td>\n",
       "      <td>85.0</td>\n",
       "      <td>110.0</td>\n",
       "    </tr>\n",
       "  </tbody>\n",
       "</table>\n",
       "</div>"
      ],
      "text/plain": [
       "             语文     数学     英语     理综\n",
       "lisi      149.0  206.0  240.0  233.0\n",
       "tianqi    147.0    3.0   33.0  143.0\n",
       "wangwu    188.0  193.0  179.0  140.0\n",
       "zhangsan  121.0   93.0  137.0  168.0\n",
       "zhaoliu   131.0  197.0   85.0  110.0"
      ]
     },
     "execution_count": 86,
     "metadata": {},
     "output_type": "execute_result"
    }
   ],
   "source": [
    "df3 = df1.add(df2,fill_value=0)\n",
    "df3"
   ]
  },
  {
   "cell_type": "code",
   "execution_count": 87,
   "metadata": {},
   "outputs": [
    {
     "data": {
      "text/html": [
       "<div>\n",
       "<style scoped>\n",
       "    .dataframe tbody tr th:only-of-type {\n",
       "        vertical-align: middle;\n",
       "    }\n",
       "\n",
       "    .dataframe tbody tr th {\n",
       "        vertical-align: top;\n",
       "    }\n",
       "\n",
       "    .dataframe thead th {\n",
       "        text-align: right;\n",
       "    }\n",
       "</style>\n",
       "<table border=\"1\" class=\"dataframe\">\n",
       "  <thead>\n",
       "    <tr style=\"text-align: right;\">\n",
       "      <th></th>\n",
       "      <th>语文</th>\n",
       "      <th>数学</th>\n",
       "      <th>英语</th>\n",
       "    </tr>\n",
       "  </thead>\n",
       "  <tbody>\n",
       "    <tr>\n",
       "      <th>zhangsan</th>\n",
       "      <td>131</td>\n",
       "      <td>96</td>\n",
       "      <td>54</td>\n",
       "    </tr>\n",
       "    <tr>\n",
       "      <th>lisi</th>\n",
       "      <td>98</td>\n",
       "      <td>9</td>\n",
       "      <td>119</td>\n",
       "    </tr>\n",
       "    <tr>\n",
       "      <th>wangwu</th>\n",
       "      <td>123</td>\n",
       "      <td>106</td>\n",
       "      <td>32</td>\n",
       "    </tr>\n",
       "    <tr>\n",
       "      <th>zhaoliu</th>\n",
       "      <td>6</td>\n",
       "      <td>149</td>\n",
       "      <td>55</td>\n",
       "    </tr>\n",
       "    <tr>\n",
       "      <th>tianqi</th>\n",
       "      <td>62</td>\n",
       "      <td>41</td>\n",
       "      <td>123</td>\n",
       "    </tr>\n",
       "  </tbody>\n",
       "</table>\n",
       "</div>"
      ],
      "text/plain": [
       "           语文   数学   英语\n",
       "zhangsan  131   96   54\n",
       "lisi       98    9  119\n",
       "wangwu    123  106   32\n",
       "zhaoliu     6  149   55\n",
       "tianqi     62   41  123"
      ]
     },
     "execution_count": 87,
     "metadata": {},
     "output_type": "execute_result"
    }
   ],
   "source": [
    "df4 = pd.DataFrame(np.random.randint(0,150,size=(5,3)),\n",
    "                   index=['zhangsan','lisi','wangwu','zhaoliu','tianqi'],\n",
    "                   columns=['语文','数学','英语'])\n",
    "df4"
   ]
  },
  {
   "cell_type": "code",
   "execution_count": 88,
   "metadata": {},
   "outputs": [
    {
     "data": {
      "text/html": [
       "<div>\n",
       "<style scoped>\n",
       "    .dataframe tbody tr th:only-of-type {\n",
       "        vertical-align: middle;\n",
       "    }\n",
       "\n",
       "    .dataframe tbody tr th {\n",
       "        vertical-align: top;\n",
       "    }\n",
       "\n",
       "    .dataframe thead th {\n",
       "        text-align: right;\n",
       "    }\n",
       "</style>\n",
       "<table border=\"1\" class=\"dataframe\">\n",
       "  <thead>\n",
       "    <tr style=\"text-align: right;\">\n",
       "      <th></th>\n",
       "      <th>数学</th>\n",
       "      <th>理综</th>\n",
       "      <th>英语</th>\n",
       "      <th>语文</th>\n",
       "    </tr>\n",
       "  </thead>\n",
       "  <tbody>\n",
       "    <tr>\n",
       "      <th>lisi</th>\n",
       "      <td>72.0</td>\n",
       "      <td>NaN</td>\n",
       "      <td>264.0</td>\n",
       "      <td>131.0</td>\n",
       "    </tr>\n",
       "    <tr>\n",
       "      <th>tianqi</th>\n",
       "      <td>NaN</td>\n",
       "      <td>NaN</td>\n",
       "      <td>NaN</td>\n",
       "      <td>NaN</td>\n",
       "    </tr>\n",
       "    <tr>\n",
       "      <th>wangwu</th>\n",
       "      <td>217.0</td>\n",
       "      <td>NaN</td>\n",
       "      <td>147.0</td>\n",
       "      <td>234.0</td>\n",
       "    </tr>\n",
       "    <tr>\n",
       "      <th>zhangsan</th>\n",
       "      <td>132.0</td>\n",
       "      <td>NaN</td>\n",
       "      <td>127.0</td>\n",
       "      <td>246.0</td>\n",
       "    </tr>\n",
       "    <tr>\n",
       "      <th>zhaoliu</th>\n",
       "      <td>245.0</td>\n",
       "      <td>NaN</td>\n",
       "      <td>137.0</td>\n",
       "      <td>115.0</td>\n",
       "    </tr>\n",
       "  </tbody>\n",
       "</table>\n",
       "</div>"
      ],
      "text/plain": [
       "             数学  理综     英语     语文\n",
       "lisi       72.0 NaN  264.0  131.0\n",
       "tianqi      NaN NaN    NaN    NaN\n",
       "wangwu    217.0 NaN  147.0  234.0\n",
       "zhangsan  132.0 NaN  127.0  246.0\n",
       "zhaoliu   245.0 NaN  137.0  115.0"
      ]
     },
     "execution_count": 88,
     "metadata": {},
     "output_type": "execute_result"
    }
   ],
   "source": [
    "df1.add(df4)"
   ]
  },
  {
   "cell_type": "markdown",
   "metadata": {},
   "source": [
    "### 3.2Series与DataFrame之间的运算\n",
    "- 使用Python操作符：以行位单位操作（参数必须是行），对所有行都有效。（类似与numpy中二维数组与一维数组的运算，但可能出现NaN）\n",
    "- 使用pandas操作函数：\n",
    "    - axis=0：以列为单位操作（参数必须是列），对所有列都有效。\n",
    "    - axis=1：以行位单位操作（参数必须是行），对所有行都有效。"
   ]
  },
  {
   "cell_type": "code",
   "execution_count": 93,
   "metadata": {
    "scrolled": true
   },
   "outputs": [
    {
     "data": {
      "text/plain": [
       "lisi        149.0\n",
       "tianqi      147.0\n",
       "wangwu      188.0\n",
       "zhangsan    121.0\n",
       "zhaoliu     131.0\n",
       "Name: 语文, dtype: float64"
      ]
     },
     "execution_count": 93,
     "metadata": {},
     "output_type": "execute_result"
    }
   ],
   "source": [
    "s1 = df3['语文']\n",
    "s1"
   ]
  },
  {
   "cell_type": "code",
   "execution_count": 97,
   "metadata": {
    "scrolled": true
   },
   "outputs": [
    {
     "data": {
      "text/html": [
       "<div>\n",
       "<style scoped>\n",
       "    .dataframe tbody tr th:only-of-type {\n",
       "        vertical-align: middle;\n",
       "    }\n",
       "\n",
       "    .dataframe tbody tr th {\n",
       "        vertical-align: top;\n",
       "    }\n",
       "\n",
       "    .dataframe thead th {\n",
       "        text-align: right;\n",
       "    }\n",
       "</style>\n",
       "<table border=\"1\" class=\"dataframe\">\n",
       "  <thead>\n",
       "    <tr style=\"text-align: right;\">\n",
       "      <th></th>\n",
       "      <th>lisi</th>\n",
       "      <th>tianqi</th>\n",
       "      <th>wangwu</th>\n",
       "      <th>zhangsan</th>\n",
       "      <th>zhaoliu</th>\n",
       "      <th>数学</th>\n",
       "      <th>理综</th>\n",
       "      <th>英语</th>\n",
       "      <th>语文</th>\n",
       "    </tr>\n",
       "  </thead>\n",
       "  <tbody>\n",
       "    <tr>\n",
       "      <th>lisi</th>\n",
       "      <td>NaN</td>\n",
       "      <td>NaN</td>\n",
       "      <td>NaN</td>\n",
       "      <td>NaN</td>\n",
       "      <td>NaN</td>\n",
       "      <td>NaN</td>\n",
       "      <td>NaN</td>\n",
       "      <td>NaN</td>\n",
       "      <td>NaN</td>\n",
       "    </tr>\n",
       "    <tr>\n",
       "      <th>tianqi</th>\n",
       "      <td>NaN</td>\n",
       "      <td>NaN</td>\n",
       "      <td>NaN</td>\n",
       "      <td>NaN</td>\n",
       "      <td>NaN</td>\n",
       "      <td>NaN</td>\n",
       "      <td>NaN</td>\n",
       "      <td>NaN</td>\n",
       "      <td>NaN</td>\n",
       "    </tr>\n",
       "    <tr>\n",
       "      <th>wangwu</th>\n",
       "      <td>NaN</td>\n",
       "      <td>NaN</td>\n",
       "      <td>NaN</td>\n",
       "      <td>NaN</td>\n",
       "      <td>NaN</td>\n",
       "      <td>NaN</td>\n",
       "      <td>NaN</td>\n",
       "      <td>NaN</td>\n",
       "      <td>NaN</td>\n",
       "    </tr>\n",
       "    <tr>\n",
       "      <th>zhangsan</th>\n",
       "      <td>NaN</td>\n",
       "      <td>NaN</td>\n",
       "      <td>NaN</td>\n",
       "      <td>NaN</td>\n",
       "      <td>NaN</td>\n",
       "      <td>NaN</td>\n",
       "      <td>NaN</td>\n",
       "      <td>NaN</td>\n",
       "      <td>NaN</td>\n",
       "    </tr>\n",
       "    <tr>\n",
       "      <th>zhaoliu</th>\n",
       "      <td>NaN</td>\n",
       "      <td>NaN</td>\n",
       "      <td>NaN</td>\n",
       "      <td>NaN</td>\n",
       "      <td>NaN</td>\n",
       "      <td>NaN</td>\n",
       "      <td>NaN</td>\n",
       "      <td>NaN</td>\n",
       "      <td>NaN</td>\n",
       "    </tr>\n",
       "  </tbody>\n",
       "</table>\n",
       "</div>"
      ],
      "text/plain": [
       "          lisi  tianqi  wangwu  zhangsan  zhaoliu  数学  理综  英语  语文\n",
       "lisi       NaN     NaN     NaN       NaN      NaN NaN NaN NaN NaN\n",
       "tianqi     NaN     NaN     NaN       NaN      NaN NaN NaN NaN NaN\n",
       "wangwu     NaN     NaN     NaN       NaN      NaN NaN NaN NaN NaN\n",
       "zhangsan   NaN     NaN     NaN       NaN      NaN NaN NaN NaN NaN\n",
       "zhaoliu    NaN     NaN     NaN       NaN      NaN NaN NaN NaN NaN"
      ]
     },
     "execution_count": 97,
     "metadata": {},
     "output_type": "execute_result"
    }
   ],
   "source": [
    "df3+ s1"
   ]
  },
  {
   "cell_type": "code",
   "execution_count": 100,
   "metadata": {},
   "outputs": [
    {
     "data": {
      "text/plain": [
       "Index(['语文', '数学', '英语', '理综'], dtype='object')"
      ]
     },
     "metadata": {},
     "output_type": "display_data"
    },
    {
     "data": {
      "text/plain": [
       "Index(['lisi', 'tianqi', 'wangwu', 'zhangsan', 'zhaoliu'], dtype='object')"
      ]
     },
     "metadata": {},
     "output_type": "display_data"
    }
   ],
   "source": [
    "display(df3.columns,s1.index)"
   ]
  },
  {
   "cell_type": "code",
   "execution_count": 95,
   "metadata": {},
   "outputs": [
    {
     "data": {
      "text/plain": [
       "语文    149.0\n",
       "数学    206.0\n",
       "英语    240.0\n",
       "理综    233.0\n",
       "Name: lisi, dtype: float64"
      ]
     },
     "execution_count": 95,
     "metadata": {},
     "output_type": "execute_result"
    }
   ],
   "source": [
    "s2 = df3.loc['lisi']\n",
    "s2"
   ]
  },
  {
   "cell_type": "code",
   "execution_count": 98,
   "metadata": {},
   "outputs": [
    {
     "data": {
      "text/html": [
       "<div>\n",
       "<style scoped>\n",
       "    .dataframe tbody tr th:only-of-type {\n",
       "        vertical-align: middle;\n",
       "    }\n",
       "\n",
       "    .dataframe tbody tr th {\n",
       "        vertical-align: top;\n",
       "    }\n",
       "\n",
       "    .dataframe thead th {\n",
       "        text-align: right;\n",
       "    }\n",
       "</style>\n",
       "<table border=\"1\" class=\"dataframe\">\n",
       "  <thead>\n",
       "    <tr style=\"text-align: right;\">\n",
       "      <th></th>\n",
       "      <th>语文</th>\n",
       "      <th>数学</th>\n",
       "      <th>英语</th>\n",
       "      <th>理综</th>\n",
       "    </tr>\n",
       "  </thead>\n",
       "  <tbody>\n",
       "    <tr>\n",
       "      <th>lisi</th>\n",
       "      <td>298.0</td>\n",
       "      <td>412.0</td>\n",
       "      <td>480.0</td>\n",
       "      <td>466.0</td>\n",
       "    </tr>\n",
       "    <tr>\n",
       "      <th>tianqi</th>\n",
       "      <td>296.0</td>\n",
       "      <td>209.0</td>\n",
       "      <td>273.0</td>\n",
       "      <td>376.0</td>\n",
       "    </tr>\n",
       "    <tr>\n",
       "      <th>wangwu</th>\n",
       "      <td>337.0</td>\n",
       "      <td>399.0</td>\n",
       "      <td>419.0</td>\n",
       "      <td>373.0</td>\n",
       "    </tr>\n",
       "    <tr>\n",
       "      <th>zhangsan</th>\n",
       "      <td>270.0</td>\n",
       "      <td>299.0</td>\n",
       "      <td>377.0</td>\n",
       "      <td>401.0</td>\n",
       "    </tr>\n",
       "    <tr>\n",
       "      <th>zhaoliu</th>\n",
       "      <td>280.0</td>\n",
       "      <td>403.0</td>\n",
       "      <td>325.0</td>\n",
       "      <td>343.0</td>\n",
       "    </tr>\n",
       "  </tbody>\n",
       "</table>\n",
       "</div>"
      ],
      "text/plain": [
       "             语文     数学     英语     理综\n",
       "lisi      298.0  412.0  480.0  466.0\n",
       "tianqi    296.0  209.0  273.0  376.0\n",
       "wangwu    337.0  399.0  419.0  373.0\n",
       "zhangsan  270.0  299.0  377.0  401.0\n",
       "zhaoliu   280.0  403.0  325.0  343.0"
      ]
     },
     "execution_count": 98,
     "metadata": {},
     "output_type": "execute_result"
    }
   ],
   "source": [
    "df3 + s2"
   ]
  },
  {
   "cell_type": "code",
   "execution_count": 99,
   "metadata": {},
   "outputs": [
    {
     "data": {
      "text/plain": [
       "Index(['语文', '数学', '英语', '理综'], dtype='object')"
      ]
     },
     "metadata": {},
     "output_type": "display_data"
    },
    {
     "data": {
      "text/plain": [
       "Index(['语文', '数学', '英语', '理综'], dtype='object')"
      ]
     },
     "metadata": {},
     "output_type": "display_data"
    }
   ],
   "source": [
    "display(df3.columns,s2.index)"
   ]
  },
  {
   "cell_type": "code",
   "execution_count": null,
   "metadata": {},
   "outputs": [],
   "source": [
    "axis=0：以列为单位操作（参数必须是列），对所有列都有效。\n",
    "axis=1：以行位单位操作（参数必须是行），对所有行都有效。"
   ]
  },
  {
   "cell_type": "code",
   "execution_count": 107,
   "metadata": {},
   "outputs": [
    {
     "data": {
      "text/html": [
       "<div>\n",
       "<style scoped>\n",
       "    .dataframe tbody tr th:only-of-type {\n",
       "        vertical-align: middle;\n",
       "    }\n",
       "\n",
       "    .dataframe tbody tr th {\n",
       "        vertical-align: top;\n",
       "    }\n",
       "\n",
       "    .dataframe thead th {\n",
       "        text-align: right;\n",
       "    }\n",
       "</style>\n",
       "<table border=\"1\" class=\"dataframe\">\n",
       "  <thead>\n",
       "    <tr style=\"text-align: right;\">\n",
       "      <th></th>\n",
       "      <th>语文</th>\n",
       "      <th>数学</th>\n",
       "      <th>英语</th>\n",
       "      <th>理综</th>\n",
       "    </tr>\n",
       "  </thead>\n",
       "  <tbody>\n",
       "    <tr>\n",
       "      <th>lisi</th>\n",
       "      <td>149.0</td>\n",
       "      <td>206.0</td>\n",
       "      <td>240.0</td>\n",
       "      <td>233.0</td>\n",
       "    </tr>\n",
       "    <tr>\n",
       "      <th>tianqi</th>\n",
       "      <td>147.0</td>\n",
       "      <td>3.0</td>\n",
       "      <td>33.0</td>\n",
       "      <td>143.0</td>\n",
       "    </tr>\n",
       "    <tr>\n",
       "      <th>wangwu</th>\n",
       "      <td>188.0</td>\n",
       "      <td>193.0</td>\n",
       "      <td>179.0</td>\n",
       "      <td>140.0</td>\n",
       "    </tr>\n",
       "    <tr>\n",
       "      <th>zhangsan</th>\n",
       "      <td>121.0</td>\n",
       "      <td>93.0</td>\n",
       "      <td>137.0</td>\n",
       "      <td>168.0</td>\n",
       "    </tr>\n",
       "    <tr>\n",
       "      <th>zhaoliu</th>\n",
       "      <td>131.0</td>\n",
       "      <td>197.0</td>\n",
       "      <td>85.0</td>\n",
       "      <td>110.0</td>\n",
       "    </tr>\n",
       "  </tbody>\n",
       "</table>\n",
       "</div>"
      ],
      "text/plain": [
       "             语文     数学     英语     理综\n",
       "lisi      149.0  206.0  240.0  233.0\n",
       "tianqi    147.0    3.0   33.0  143.0\n",
       "wangwu    188.0  193.0  179.0  140.0\n",
       "zhangsan  121.0   93.0  137.0  168.0\n",
       "zhaoliu   131.0  197.0   85.0  110.0"
      ]
     },
     "metadata": {},
     "output_type": "display_data"
    },
    {
     "data": {
      "text/plain": [
       "lisi        149.0\n",
       "tianqi      147.0\n",
       "wangwu      188.0\n",
       "zhangsan    121.0\n",
       "zhaoliu     131.0\n",
       "Name: 语文, dtype: float64"
      ]
     },
     "metadata": {},
     "output_type": "display_data"
    }
   ],
   "source": [
    "ss = df3.语文\n",
    "display(df3,ss)"
   ]
  },
  {
   "cell_type": "code",
   "execution_count": 126,
   "metadata": {},
   "outputs": [
    {
     "data": {
      "text/html": [
       "<div>\n",
       "<style scoped>\n",
       "    .dataframe tbody tr th:only-of-type {\n",
       "        vertical-align: middle;\n",
       "    }\n",
       "\n",
       "    .dataframe tbody tr th {\n",
       "        vertical-align: top;\n",
       "    }\n",
       "\n",
       "    .dataframe thead th {\n",
       "        text-align: right;\n",
       "    }\n",
       "</style>\n",
       "<table border=\"1\" class=\"dataframe\">\n",
       "  <thead>\n",
       "    <tr style=\"text-align: right;\">\n",
       "      <th></th>\n",
       "      <th>语文</th>\n",
       "      <th>数学</th>\n",
       "      <th>英语</th>\n",
       "      <th>理综</th>\n",
       "    </tr>\n",
       "  </thead>\n",
       "  <tbody>\n",
       "    <tr>\n",
       "      <th>lisi</th>\n",
       "      <td>298.0</td>\n",
       "      <td>355.0</td>\n",
       "      <td>389.0</td>\n",
       "      <td>382.0</td>\n",
       "    </tr>\n",
       "    <tr>\n",
       "      <th>tianqi</th>\n",
       "      <td>294.0</td>\n",
       "      <td>150.0</td>\n",
       "      <td>180.0</td>\n",
       "      <td>290.0</td>\n",
       "    </tr>\n",
       "    <tr>\n",
       "      <th>wangwu</th>\n",
       "      <td>376.0</td>\n",
       "      <td>381.0</td>\n",
       "      <td>367.0</td>\n",
       "      <td>328.0</td>\n",
       "    </tr>\n",
       "    <tr>\n",
       "      <th>zhangsan</th>\n",
       "      <td>242.0</td>\n",
       "      <td>214.0</td>\n",
       "      <td>258.0</td>\n",
       "      <td>289.0</td>\n",
       "    </tr>\n",
       "    <tr>\n",
       "      <th>zhaoliu</th>\n",
       "      <td>262.0</td>\n",
       "      <td>328.0</td>\n",
       "      <td>216.0</td>\n",
       "      <td>241.0</td>\n",
       "    </tr>\n",
       "  </tbody>\n",
       "</table>\n",
       "</div>"
      ],
      "text/plain": [
       "             语文     数学     英语     理综\n",
       "lisi      298.0  355.0  389.0  382.0\n",
       "tianqi    294.0  150.0  180.0  290.0\n",
       "wangwu    376.0  381.0  367.0  328.0\n",
       "zhangsan  242.0  214.0  258.0  289.0\n",
       "zhaoliu   262.0  328.0  216.0  241.0"
      ]
     },
     "execution_count": 126,
     "metadata": {},
     "output_type": "execute_result"
    }
   ],
   "source": [
    "#index/0代表行索引\n",
    "n1 = df3.add(ss,axis='index')\n",
    "n2 = df3.add(ss,axis=0)\n",
    "n2"
   ]
  },
  {
   "cell_type": "code",
   "execution_count": 127,
   "metadata": {},
   "outputs": [
    {
     "data": {
      "text/html": [
       "<div>\n",
       "<style scoped>\n",
       "    .dataframe tbody tr th:only-of-type {\n",
       "        vertical-align: middle;\n",
       "    }\n",
       "\n",
       "    .dataframe tbody tr th {\n",
       "        vertical-align: top;\n",
       "    }\n",
       "\n",
       "    .dataframe thead th {\n",
       "        text-align: right;\n",
       "    }\n",
       "</style>\n",
       "<table border=\"1\" class=\"dataframe\">\n",
       "  <thead>\n",
       "    <tr style=\"text-align: right;\">\n",
       "      <th></th>\n",
       "      <th>语文</th>\n",
       "      <th>数学</th>\n",
       "      <th>英语</th>\n",
       "      <th>理综</th>\n",
       "    </tr>\n",
       "  </thead>\n",
       "  <tbody>\n",
       "    <tr>\n",
       "      <th>lisi</th>\n",
       "      <td>149.0</td>\n",
       "      <td>206.0</td>\n",
       "      <td>240.0</td>\n",
       "      <td>233.0</td>\n",
       "    </tr>\n",
       "    <tr>\n",
       "      <th>tianqi</th>\n",
       "      <td>147.0</td>\n",
       "      <td>3.0</td>\n",
       "      <td>33.0</td>\n",
       "      <td>143.0</td>\n",
       "    </tr>\n",
       "    <tr>\n",
       "      <th>wangwu</th>\n",
       "      <td>188.0</td>\n",
       "      <td>193.0</td>\n",
       "      <td>179.0</td>\n",
       "      <td>140.0</td>\n",
       "    </tr>\n",
       "    <tr>\n",
       "      <th>zhangsan</th>\n",
       "      <td>121.0</td>\n",
       "      <td>93.0</td>\n",
       "      <td>137.0</td>\n",
       "      <td>168.0</td>\n",
       "    </tr>\n",
       "    <tr>\n",
       "      <th>zhaoliu</th>\n",
       "      <td>131.0</td>\n",
       "      <td>197.0</td>\n",
       "      <td>85.0</td>\n",
       "      <td>110.0</td>\n",
       "    </tr>\n",
       "  </tbody>\n",
       "</table>\n",
       "</div>"
      ],
      "text/plain": [
       "             语文     数学     英语     理综\n",
       "lisi      149.0  206.0  240.0  233.0\n",
       "tianqi    147.0    3.0   33.0  143.0\n",
       "wangwu    188.0  193.0  179.0  140.0\n",
       "zhangsan  121.0   93.0  137.0  168.0\n",
       "zhaoliu   131.0  197.0   85.0  110.0"
      ]
     },
     "metadata": {},
     "output_type": "display_data"
    },
    {
     "data": {
      "text/plain": [
       "语文    121.0\n",
       "数学     93.0\n",
       "英语    137.0\n",
       "理综    168.0\n",
       "Name: zhangsan, dtype: float64"
      ]
     },
     "metadata": {},
     "output_type": "display_data"
    }
   ],
   "source": [
    "ss1 = df3.loc['zhangsan']\n",
    "display(df3,ss1)"
   ]
  },
  {
   "cell_type": "code",
   "execution_count": 106,
   "metadata": {},
   "outputs": [
    {
     "data": {
      "text/html": [
       "<div>\n",
       "<style scoped>\n",
       "    .dataframe tbody tr th:only-of-type {\n",
       "        vertical-align: middle;\n",
       "    }\n",
       "\n",
       "    .dataframe tbody tr th {\n",
       "        vertical-align: top;\n",
       "    }\n",
       "\n",
       "    .dataframe thead th {\n",
       "        text-align: right;\n",
       "    }\n",
       "</style>\n",
       "<table border=\"1\" class=\"dataframe\">\n",
       "  <thead>\n",
       "    <tr style=\"text-align: right;\">\n",
       "      <th></th>\n",
       "      <th>语文</th>\n",
       "      <th>数学</th>\n",
       "      <th>英语</th>\n",
       "      <th>理综</th>\n",
       "    </tr>\n",
       "  </thead>\n",
       "  <tbody>\n",
       "    <tr>\n",
       "      <th>lisi</th>\n",
       "      <td>270.0</td>\n",
       "      <td>299.0</td>\n",
       "      <td>377.0</td>\n",
       "      <td>401.0</td>\n",
       "    </tr>\n",
       "    <tr>\n",
       "      <th>tianqi</th>\n",
       "      <td>268.0</td>\n",
       "      <td>96.0</td>\n",
       "      <td>170.0</td>\n",
       "      <td>311.0</td>\n",
       "    </tr>\n",
       "    <tr>\n",
       "      <th>wangwu</th>\n",
       "      <td>309.0</td>\n",
       "      <td>286.0</td>\n",
       "      <td>316.0</td>\n",
       "      <td>308.0</td>\n",
       "    </tr>\n",
       "    <tr>\n",
       "      <th>zhangsan</th>\n",
       "      <td>242.0</td>\n",
       "      <td>186.0</td>\n",
       "      <td>274.0</td>\n",
       "      <td>336.0</td>\n",
       "    </tr>\n",
       "    <tr>\n",
       "      <th>zhaoliu</th>\n",
       "      <td>252.0</td>\n",
       "      <td>290.0</td>\n",
       "      <td>222.0</td>\n",
       "      <td>278.0</td>\n",
       "    </tr>\n",
       "  </tbody>\n",
       "</table>\n",
       "</div>"
      ],
      "text/plain": [
       "             语文     数学     英语     理综\n",
       "lisi      270.0  299.0  377.0  401.0\n",
       "tianqi    268.0   96.0  170.0  311.0\n",
       "wangwu    309.0  286.0  316.0  308.0\n",
       "zhangsan  242.0  186.0  274.0  336.0\n",
       "zhaoliu   252.0  290.0  222.0  278.0"
      ]
     },
     "execution_count": 106,
     "metadata": {},
     "output_type": "execute_result"
    }
   ],
   "source": [
    "n3 = df3.add(ss1,axis=1)\n",
    "n3"
   ]
  }
 ],
 "metadata": {
  "kernelspec": {
   "display_name": "Python 3",
   "language": "python",
   "name": "python3"
  },
  "language_info": {
   "codemirror_mode": {
    "name": "ipython",
    "version": 3
   },
   "file_extension": ".py",
   "mimetype": "text/x-python",
   "name": "python",
   "nbconvert_exporter": "python",
   "pygments_lexer": "ipython3",
   "version": "3.6.5"
  }
 },
 "nbformat": 4,
 "nbformat_minor": 2
}
